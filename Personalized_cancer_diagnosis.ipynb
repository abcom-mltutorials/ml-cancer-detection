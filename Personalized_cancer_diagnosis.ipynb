{
  "nbformat": 4,
  "nbformat_minor": 0,
  "metadata": {
    "colab": {
      "name": "Article - Personalized cancer diagnosis.ipynb",
      "provenance": [],
      "collapsed_sections": []
    },
    "kernelspec": {
      "name": "python3",
      "display_name": "Python 3"
    },
    "accelerator": "GPU"
  },
  "cells": [
    {
      "cell_type": "markdown",
      "metadata": {
        "id": "UNeOhvE6kyDh",
        "colab_type": "text"
      },
      "source": [
        "Copyright @ 2020 **ABCOM Information Systems Pvt. Ltd.** All Rights Reserved.\n",
        "\n",
        "Licensed under the Apache License, Version 2.0 (the \"License\"); you may not use this file except in compliance with the License. You may obtain a copy of the License at\n",
        "\n",
        "http://www.apache.org/licenses/LICENSE-2.0\n",
        "\n",
        "Unless required by applicable law or agreed to in writing, software distributed under the License is distributed on an \"AS IS\" BASIS, WITHOUT WARRANTIES OR CONDITIONS OF ANY KIND, either express or implied.\n",
        "\n",
        "See the License for the specific language governing permissions and limitations under the License.\n",
        "\n",
        "# ==================================================================="
      ]
    },
    {
      "cell_type": "markdown",
      "metadata": {
        "id": "GowS11yST21I",
        "colab_type": "text"
      },
      "source": [
        "# Multi-class Classification for Cancer Diagnosis\n",
        "\n",
        "\n"
      ]
    },
    {
      "cell_type": "code",
      "metadata": {
        "id": "yE1ZT7bljX_4",
        "colab_type": "code",
        "colab": {
          "base_uri": "https://localhost:8080/",
          "height": 105
        },
        "outputId": "26890871-8f20-4b14-9b5c-86bc622cfa1a"
      },
      "source": [
        "import pandas as pd\n",
        "import matplotlib.pyplot as plt\n",
        "import re\n",
        "import warnings\n",
        "import numpy as np\n",
        "from sklearn.calibration import CalibratedClassifierCV\n",
        "from sklearn.preprocessing import normalize\n",
        "from sklearn.feature_extraction.text import CountVectorizer\n",
        "import seaborn as sns\n",
        "from sklearn.metrics import confusion_matrix\n",
        "from sklearn.metrics.classification import log_loss\n",
        "from sklearn.linear_model import SGDClassifier\n",
        "from scipy.sparse import hstack\n",
        "from sklearn.model_selection import train_test_split\n",
        "from sklearn.linear_model import LogisticRegression"
      ],
      "execution_count": null,
      "outputs": [
        {
          "output_type": "stream",
          "text": [
            "/usr/local/lib/python3.6/dist-packages/statsmodels/tools/_testing.py:19: FutureWarning: pandas.util.testing is deprecated. Use the functions in the public API at pandas.testing instead.\n",
            "  import pandas.util.testing as tm\n",
            "/usr/local/lib/python3.6/dist-packages/sklearn/utils/deprecation.py:144: FutureWarning: The sklearn.metrics.classification module is  deprecated in version 0.22 and will be removed in version 0.24. The corresponding classes / functions should instead be imported from sklearn.metrics. Anything that cannot be imported from sklearn.metrics is now part of the private API.\n",
            "  warnings.warn(message, FutureWarning)\n"
          ],
          "name": "stderr"
        }
      ]
    },
    {
      "cell_type": "markdown",
      "metadata": {
        "id": "Q3AOCwhaGb5L",
        "colab_type": "text"
      },
      "source": [
        "\n",
        "# Download data\n",
        "# Dataset source: https://www.kaggle.com/c/msk-redefining-cancer-treatment"
      ]
    },
    {
      "cell_type": "code",
      "metadata": {
        "id": "I7Fhaj1uH2JA",
        "colab_type": "code",
        "colab": {
          "base_uri": "https://localhost:8080/",
          "height": 204
        },
        "outputId": "fdae130c-1467-41d9-b34f-1d04eae47b06"
      },
      "source": [
        "!wget http://abcom.com/public-data/tutorials/ml-cancer-detection/training_text.zip"
      ],
      "execution_count": null,
      "outputs": [
        {
          "output_type": "stream",
          "text": [
            "--2020-07-06 15:41:51--  http://abcom.com/public-data/tutorials/ml-cancer-detection/training_text.zip\n",
            "Resolving abcom.com (abcom.com)... 104.24.102.18, 172.67.220.7, 104.24.103.18, ...\n",
            "Connecting to abcom.com (abcom.com)|104.24.102.18|:80... connected.\n",
            "HTTP request sent, awaiting response... 200 OK\n",
            "Length: 63917183 (61M) [application/zip]\n",
            "Saving to: ‘training_text.zip’\n",
            "\n",
            "training_text.zip   100%[===================>]  60.96M  34.2MB/s    in 1.8s    \n",
            "\n",
            "2020-07-06 15:41:53 (34.2 MB/s) - ‘training_text.zip’ saved [63917183/63917183]\n",
            "\n"
          ],
          "name": "stdout"
        }
      ]
    },
    {
      "cell_type": "code",
      "metadata": {
        "id": "I8Z_9YhlIDel",
        "colab_type": "code",
        "colab": {
          "base_uri": "https://localhost:8080/",
          "height": 51
        },
        "outputId": "95550f0b-b9c0-455a-8298-33d2ba4f4ad5"
      },
      "source": [
        "!unzip training_text.zip"
      ],
      "execution_count": null,
      "outputs": [
        {
          "output_type": "stream",
          "text": [
            "Archive:  training_text.zip\n",
            "  inflating: training_text           \n"
          ],
          "name": "stdout"
        }
      ]
    },
    {
      "cell_type": "code",
      "metadata": {
        "id": "XRWtr_-bH5i8",
        "colab_type": "code",
        "colab": {
          "base_uri": "https://localhost:8080/",
          "height": 204
        },
        "outputId": "d3d7e5f1-e73a-444e-b983-24a417311dba"
      },
      "source": [
        "!wget http://abcom.com/public-data/tutorials/ml-cancer-detection/training_variants.zip"
      ],
      "execution_count": null,
      "outputs": [
        {
          "output_type": "stream",
          "text": [
            "--2020-07-06 15:42:08--  http://abcom.com/public-data/tutorials/ml-cancer-detection/training_variants.zip\n",
            "Resolving abcom.com (abcom.com)... 104.24.102.18, 172.67.220.7, 104.24.103.18, ...\n",
            "Connecting to abcom.com (abcom.com)|104.24.102.18|:80... connected.\n",
            "HTTP request sent, awaiting response... 200 OK\n",
            "Length: 24831 (24K) [application/zip]\n",
            "Saving to: ‘training_variants.zip’\n",
            "\n",
            "\rtraining_variants.z   0%[                    ]       0  --.-KB/s               \rtraining_variants.z 100%[===================>]  24.25K  --.-KB/s    in 0.04s   \n",
            "\n",
            "2020-07-06 15:42:08 (596 KB/s) - ‘training_variants.zip’ saved [24831/24831]\n",
            "\n"
          ],
          "name": "stdout"
        }
      ]
    },
    {
      "cell_type": "code",
      "metadata": {
        "id": "LTiqEFJrIHXw",
        "colab_type": "code",
        "colab": {
          "base_uri": "https://localhost:8080/",
          "height": 51
        },
        "outputId": "c2eb77d3-3a26-4b1a-9367-fb5849a01ce6"
      },
      "source": [
        "!unzip training_variants.zip"
      ],
      "execution_count": null,
      "outputs": [
        {
          "output_type": "stream",
          "text": [
            "Archive:  training_variants.zip\n",
            "  inflating: training_variants       \n"
          ],
          "name": "stdout"
        }
      ]
    },
    {
      "cell_type": "markdown",
      "metadata": {
        "id": "sesRET1gGl-a",
        "colab_type": "text"
      },
      "source": [
        "# Examine data"
      ]
    },
    {
      "cell_type": "code",
      "metadata": {
        "id": "9Pthxhg8jiuy",
        "colab_type": "code",
        "colab": {
          "base_uri": "https://localhost:8080/",
          "height": 419
        },
        "outputId": "a3eee757-1af0-409b-8716-1acba900fd09"
      },
      "source": [
        "data = pd.read_csv('/content/training_variants')\n",
        "data"
      ],
      "execution_count": null,
      "outputs": [
        {
          "output_type": "execute_result",
          "data": {
            "text/html": [
              "<div>\n",
              "<style scoped>\n",
              "    .dataframe tbody tr th:only-of-type {\n",
              "        vertical-align: middle;\n",
              "    }\n",
              "\n",
              "    .dataframe tbody tr th {\n",
              "        vertical-align: top;\n",
              "    }\n",
              "\n",
              "    .dataframe thead th {\n",
              "        text-align: right;\n",
              "    }\n",
              "</style>\n",
              "<table border=\"1\" class=\"dataframe\">\n",
              "  <thead>\n",
              "    <tr style=\"text-align: right;\">\n",
              "      <th></th>\n",
              "      <th>ID</th>\n",
              "      <th>Gene</th>\n",
              "      <th>Variation</th>\n",
              "      <th>Class</th>\n",
              "    </tr>\n",
              "  </thead>\n",
              "  <tbody>\n",
              "    <tr>\n",
              "      <th>0</th>\n",
              "      <td>0</td>\n",
              "      <td>FAM58A</td>\n",
              "      <td>Truncating Mutations</td>\n",
              "      <td>1</td>\n",
              "    </tr>\n",
              "    <tr>\n",
              "      <th>1</th>\n",
              "      <td>1</td>\n",
              "      <td>CBL</td>\n",
              "      <td>W802*</td>\n",
              "      <td>2</td>\n",
              "    </tr>\n",
              "    <tr>\n",
              "      <th>2</th>\n",
              "      <td>2</td>\n",
              "      <td>CBL</td>\n",
              "      <td>Q249E</td>\n",
              "      <td>2</td>\n",
              "    </tr>\n",
              "    <tr>\n",
              "      <th>3</th>\n",
              "      <td>3</td>\n",
              "      <td>CBL</td>\n",
              "      <td>N454D</td>\n",
              "      <td>3</td>\n",
              "    </tr>\n",
              "    <tr>\n",
              "      <th>4</th>\n",
              "      <td>4</td>\n",
              "      <td>CBL</td>\n",
              "      <td>L399V</td>\n",
              "      <td>4</td>\n",
              "    </tr>\n",
              "    <tr>\n",
              "      <th>...</th>\n",
              "      <td>...</td>\n",
              "      <td>...</td>\n",
              "      <td>...</td>\n",
              "      <td>...</td>\n",
              "    </tr>\n",
              "    <tr>\n",
              "      <th>3316</th>\n",
              "      <td>3316</td>\n",
              "      <td>RUNX1</td>\n",
              "      <td>D171N</td>\n",
              "      <td>4</td>\n",
              "    </tr>\n",
              "    <tr>\n",
              "      <th>3317</th>\n",
              "      <td>3317</td>\n",
              "      <td>RUNX1</td>\n",
              "      <td>A122*</td>\n",
              "      <td>1</td>\n",
              "    </tr>\n",
              "    <tr>\n",
              "      <th>3318</th>\n",
              "      <td>3318</td>\n",
              "      <td>RUNX1</td>\n",
              "      <td>Fusions</td>\n",
              "      <td>1</td>\n",
              "    </tr>\n",
              "    <tr>\n",
              "      <th>3319</th>\n",
              "      <td>3319</td>\n",
              "      <td>RUNX1</td>\n",
              "      <td>R80C</td>\n",
              "      <td>4</td>\n",
              "    </tr>\n",
              "    <tr>\n",
              "      <th>3320</th>\n",
              "      <td>3320</td>\n",
              "      <td>RUNX1</td>\n",
              "      <td>K83E</td>\n",
              "      <td>4</td>\n",
              "    </tr>\n",
              "  </tbody>\n",
              "</table>\n",
              "<p>3321 rows × 4 columns</p>\n",
              "</div>"
            ],
            "text/plain": [
              "        ID    Gene             Variation  Class\n",
              "0        0  FAM58A  Truncating Mutations      1\n",
              "1        1     CBL                 W802*      2\n",
              "2        2     CBL                 Q249E      2\n",
              "3        3     CBL                 N454D      3\n",
              "4        4     CBL                 L399V      4\n",
              "...    ...     ...                   ...    ...\n",
              "3316  3316   RUNX1                 D171N      4\n",
              "3317  3317   RUNX1                 A122*      1\n",
              "3318  3318   RUNX1               Fusions      1\n",
              "3319  3319   RUNX1                  R80C      4\n",
              "3320  3320   RUNX1                  K83E      4\n",
              "\n",
              "[3321 rows x 4 columns]"
            ]
          },
          "metadata": {
            "tags": []
          },
          "execution_count": 11
        }
      ]
    },
    {
      "cell_type": "code",
      "metadata": {
        "id": "ghFMov8yjxEj",
        "colab_type": "code",
        "colab": {
          "base_uri": "https://localhost:8080/",
          "height": 204
        },
        "outputId": "9e89db9d-bbce-44e7-8308-15574b6d47c2"
      },
      "source": [
        "data_text = pd.read_csv(\"/content/training_text\", sep = \"\\|\\|\", engine = \"python\", names = [\"ID\",\"TEXT\"], skiprows = 1)\n",
        "data_text.head()"
      ],
      "execution_count": null,
      "outputs": [
        {
          "output_type": "execute_result",
          "data": {
            "text/html": [
              "<div>\n",
              "<style scoped>\n",
              "    .dataframe tbody tr th:only-of-type {\n",
              "        vertical-align: middle;\n",
              "    }\n",
              "\n",
              "    .dataframe tbody tr th {\n",
              "        vertical-align: top;\n",
              "    }\n",
              "\n",
              "    .dataframe thead th {\n",
              "        text-align: right;\n",
              "    }\n",
              "</style>\n",
              "<table border=\"1\" class=\"dataframe\">\n",
              "  <thead>\n",
              "    <tr style=\"text-align: right;\">\n",
              "      <th></th>\n",
              "      <th>ID</th>\n",
              "      <th>TEXT</th>\n",
              "    </tr>\n",
              "  </thead>\n",
              "  <tbody>\n",
              "    <tr>\n",
              "      <th>0</th>\n",
              "      <td>0</td>\n",
              "      <td>Cyclin-dependent kinases (CDKs) regulate a var...</td>\n",
              "    </tr>\n",
              "    <tr>\n",
              "      <th>1</th>\n",
              "      <td>1</td>\n",
              "      <td>Abstract Background  Non-small cell lung canc...</td>\n",
              "    </tr>\n",
              "    <tr>\n",
              "      <th>2</th>\n",
              "      <td>2</td>\n",
              "      <td>Abstract Background  Non-small cell lung canc...</td>\n",
              "    </tr>\n",
              "    <tr>\n",
              "      <th>3</th>\n",
              "      <td>3</td>\n",
              "      <td>Recent evidence has demonstrated that acquired...</td>\n",
              "    </tr>\n",
              "    <tr>\n",
              "      <th>4</th>\n",
              "      <td>4</td>\n",
              "      <td>Oncogenic mutations in the monomeric Casitas B...</td>\n",
              "    </tr>\n",
              "  </tbody>\n",
              "</table>\n",
              "</div>"
            ],
            "text/plain": [
              "   ID                                               TEXT\n",
              "0   0  Cyclin-dependent kinases (CDKs) regulate a var...\n",
              "1   1   Abstract Background  Non-small cell lung canc...\n",
              "2   2   Abstract Background  Non-small cell lung canc...\n",
              "3   3  Recent evidence has demonstrated that acquired...\n",
              "4   4  Oncogenic mutations in the monomeric Casitas B..."
            ]
          },
          "metadata": {
            "tags": []
          },
          "execution_count": 13
        }
      ]
    },
    {
      "cell_type": "code",
      "metadata": {
        "id": "t9cZ_7wQHALg",
        "colab_type": "code",
        "colab": {
          "base_uri": "https://localhost:8080/",
          "height": 137
        },
        "outputId": "05079eca-a616-4cee-99c6-10e369cf264a"
      },
      "source": [
        "data_text['TEXT'][1]"
      ],
      "execution_count": null,
      "outputs": [
        {
          "output_type": "execute_result",
          "data": {
            "application/vnd.google.colaboratory.intrinsic": {
              "type": "string"
            },
            "text/plain": [
              "\" Abstract Background  Non-small cell lung cancer (NSCLC) is a heterogeneous group of disorders with a number of genetic and proteomic alterations. c-CBL is an E3 ubiquitin ligase and adaptor molecule important in normal homeostasis and cancer. We determined the genetic variations of c-CBL, relationship to receptor tyrosine kinases (EGFR and MET), and functionality in NSCLC.  Methods and Findings  Using archival formalin-fixed paraffin embedded (FFPE) extracted genomic DNA, we show that c-CBL mutations occur in somatic fashion for lung cancers. c-CBL mutations were not mutually exclusive of MET or EGFR mutations; however they were independent of p53 and KRAS mutations. In normal/tumor pairwise analysis, there was significant loss of heterozygosity (LOH) for the c-CBL locus (22%, n\\u200a=\\u200a8/37) and none of these samples revealed any mutation in the remaining copy of c-CBL. The c-CBL LOH also positively correlated with EGFR and MET mutations observed in the same samples. Using select c-CBL somatic mutations such as S80N/H94Y, Q249E and W802* (obtained from Caucasian, Taiwanese and African-American samples, respectively) transfected in NSCLC cell lines, there was increased cell viability and cell motility.  Conclusions  Taking the overall mutation rate of c-CBL to be a combination as somatic missense mutation and LOH, it is clear that c-CBL is highly mutated in lung cancers and may play an essential role in lung tumorigenesis and metastasis.  Go to: Introduction In the US alone, each year approximately 219,400 people are diagnosed with lung cancers, out of which more than 145,000 of them succumb to the disease [1]. This number is roughly equivalent to the combined mortality rates of cancers of the breast, prostate, colon, liver, kidney and melanoma [1]. In addition the prognosis is usually poor and the five-year survival rate is less than 15%. There are also significant ethnic differences for lung cancer, and the outcome is worse for blacks compared to whites. Gender differences are also striking with women having significantly better prognosis as compared to men. There are a number of genetic alterations that can occur in lung cancer. As an example, in NSCLC, mutations in KRAS, p53, EGFR and MET have been identified. Many of these pathways, especially Receptor Tyrosine Kinases (RTKs) are controlled by c-CBL.  CBL (Casitas B-lineage lymphoma) is a mammalian gene located on human chromosome 11q23.3 [2] and is involved in cell signaling and protein ubiquitination [3]. CBL proteins belong to the RING finger class of ubiquitin ligases (E3) and there are three homologues c-CBL, CBL-b, CBL-3 [4]. The c-CBL and CBL-b genes are ubiquitously expressed with the highest levels in hematopoietic tissues [5]. c-CBL consists of four regions encoding for functionally distinct protein domains: the N-terminal tyrosine kinase binding (TKB) domain, the linker region, the catalytic RING finger domain, the proline-rich region and the c-terminal ubiquitin-associated (UBA) domain that also overlaps with a leucine-zipper (LZ) domain [3]. Both TKB and RING finger domains are essential for ligand-induced ubiquitination of RTKs [6], [7], [8], [9]. The RING finger domain is required for the recruitment of E2 ubiquitin-conjugating enzymes. The TKB domain includes four-helix bundle (4H), a calcium-biding EF hand, and a modified SH2 domain, which binds to phosphotyrosine residues [3], [10], [11], [12]. In addition, the proline-rich region of c-CBL can associate with the SH3 domain of Grb2, which can indirectly recruit c-CBL to RTKs via the GRB2 adaptor protein [7], [13], [14].  c-CBL also binds to EGFR and acts as the E3 that targets EGFR for ubiquitination and degradation. Furthermore, CBL desensitizes EGF signaling and opposes cellular proliferation induced by EGF [15]. EGF activation also appears to activate the tyrosine kinase SRC, which phosphorylates c-CBL and in turn activates the ubiquitination and degradation of EGFR [16], [17], [18]. A recent study shows that defective endocytosis of EGFR is characterized by a deletion mutant and the point mutation L858R, whereby its association with c-CBL and subsequent ubiquitination are impaired [19]. Recently, the first human c-CBL mutations were reported in acute myeloid leukemia (AML) patients [20]. The mutation R420Q inhibits FMS-like tyrosine kinase 3 (FLT3) internalization and ubiquitination [20].  Not only can E3 activity be important in oncogenesis, c-CBL has a dual but separate function as a signal transduction molecule. We have previously shown that c-CBL is important in binding CRKL and BCR/ABL in hematopoietic cells. Also, it can bind and modulate functions of cytoskeleton by binding to proteins like talin and paxillin. The TKB domain is important in binding to a number of molecules, and they then function in signal transduction.  Given the critical role of CBL in normal homeostasis and cancer, we hypothesized that it might be mutated in lung cancers. In this study, we report novel c-CBL somatic mutations S80N/H94Y, Q249E and W802* in Caucasian, Taiwanese and African-American lung cancer patients, respectively. Expressing these mutations in NSCLC cell lines lead to increased proliferation and cell motility. We show that c-CBL mutations occur with or without MET or EGFR mutations but are mutually exclusive of a LOH at the c-CBL locus. Additionally, c-CBL LOH is associated with either MET or EGFR mutations. We thus hypothesize that c-CBL mutations might contribute to the oncogenic potential of MET and EGFR in lung cancer.  Go to: Methods Ethics Statement  Written consent on all research on human subjects has been obtained from the Institutional Review Board, University of Chicago and covers all research performed in the laboratory. The following is their contact information: Institutional Review Board, The University of Chicago, McGiffert Hall, 5751 S. Woodlawn Ave., 2nd floor, Chicago, IL 60637. Written informed consents were received from all patients whose tissue samples were used for this study.  Tissue Samples  Lung cancer tissue and paired adjacent normal lung tissues were obtained from 50 Caucasian, 29 African-Americans and 40 Taiwanese NSCLC patients who were recruited at the University of Chicago Hospital (Chicago, USA) (Caucasian and African-American patients) and Taipei Veterans General Hospital of Taiwan (Taiwanese patients) after obtaining appropriate Institutional Review Board permission and informed consent from the patients. Out of 119 samples, 77 were men, 38 were women and 4 were unknown with age at diagnosis ranging from 47 to 90 years. In terms of tumor types, 53 were adenocarcinoma, 32 were squamous cell carcinoma and 34 were large cell carcinoma. 49 were stage I, 14 were stage II, 34 were stage III, and 13 were stage IV (Table S1).  Cell Culture  Human non-small cell lung carcinoma cells A549 and H358 were maintained in DMEM and RPMI-1640, respectively. Human embryonic kidney 293T cells were cultured in DMEM. Media were supplemented with 10% fetal bovine serum, 100 units/ml of penicillin, and 100 µg/ml of streptomycin (Invitrogen, Carlsbad, CA). Cells were cultured at 37°C in a humidified incubator containing 5% CO2.  c-CBL Gene Mutational Analysis  Exons 2 to 16 of c-CBL gene were individually amplified by polymerase chain reaction (PCR). Primers are listed in Table S2. PCR conditions were 1 cycle of 95°C for 5 minutes; 35 cycles of 94°C for 30 seconds, 58°C for 30 seconds and 72°C for 2 minutes; and one cycle of 72°C for 10 minutes. PCR products were treated with ExoSAP-IT (USB Corporation, Cleveland, OH) and sequenced by Big-Dye Terminator Chemistry (Applied Biosystems, Foster City, CA). Sequencing was performed on the forward coding strand with confirmation of c-CBL alterations performed by sequencing the reverse strand as well. Chromatograms were analyzed for mutations using Mutation Surveyor v2.61 (Softgenetics, State College, PA).  Plasmid Constructs and Site-Directed Mutagenesis  The wild-type c-CBL cDNA insert was subcloned into the pAlterMax expression vector using XhoI and SalI restriction enzyme sites (Promega, Madison, WI). Using this parental plasmid pAlterMax-c-CBL, the TKB domain double mutation (S80N/H94Y), the point mutation (Q249E), and the C-terminal point mutation W802* of c-CBL were created using the following primers: 5′-GCTGGCGCTAAAGAATAACCCACCTTATATCTTAGAC-3′ and 5′-CTACCAGATACCTACCAGTATCTCCGTACTATCTTGTC-3′ for the double mutation S80N/H94Y; 5′-CTTTACCCGACTCTTTGAGCCCTGGTCCTCTTTGC-3′ for Q249E, and 5′-CAGCTCCTCCTTTGGCTGATTGTCTCTGGATGGTGATC-3′ for W802* along with their complementary primers using the QuickChange Site-Directed Mutagenesis XL kit (Stratagene, La Jolla, CA) according to the manufacturer's instructions. The constructs were confirmed for the point mutations by standard DNA sequencing of both strands.  Loss of Heterozygosity (LOH) Analysis  Five microsatellites on chromosome 11 (3 on 11q at or within 200 kb up or downstream of the c-CBL gene and 2 control markers on 11p) were selected for analysis (Table S3). Established microsatellite markers and respective primer sequences were selected from the GeneLoc database (http://genecards.weizmann.ac.il/geneloc/index.shtml, Weizmann Institute of Science, Rehovot, Israel). Primers were custom designed and each forward primer was fluorescently labeled at the 5′ end with FAM, PET, NED, or VIC (Applied Biosystems). Primer annealing temperatures and duplex scores were evaluated with NIST Primer Tools (http://yellow.nist.gov:8444/dnaAnalysis/primerToolsPage.do; National Institute of Standards and Technology, Gaithersburg, MD). Primers were verified by performing PCR with control DNA (isolated from TK6 cells) and resolving the products on agarose gels. Bands were visualized with an UV transilluminator. Genomic DNA was extracted from tumor samples and paired normal lung tissue. Primers were grouped into multiplex combinations shown in Table S4. Marker D11S929 served as an internal control to check for consistency in PCRs and of peaks from capillary electrophoresis. Multiplex PCRs were carried out in a volume of 10 µL that contained 1 µL genomic DNA (20–50 ng), 0.5 µM of each primer (1.0 µM total for each primer pair), 400 µM dNTPs, 1X PCR buffer containing MgCl2, and 0.2 U Taq DNA polymerase. PCR was performed on the ABI GeneAmp 9700 PCR System under the following conditions: 5 min at 94°C; 30 cycles of 30 sec at 94°C, 1 min at 60°C, 1 min at 72°C; and 5 min at 72°C. The PCR products were separated by capillary electrophoresis on an ABI 3130XL DNA Analyzer. Chromatograms were analyzed with Peak Scanner 1.0 and GeneMapper 3.7 software (Applied Biosystems) for allelic alterations. The area of the peaks produced by the DNA PCR products was quantified for each allele. The ratio of the allelic areas was calculated for each tumor and paired normal DNA sample. When the qLOH (allelic ratio for the tumor peaks divided by the allelic ratio of paired normal sample) was ≤0.5 or ≥2.0 for c-CBL and at least one other 11q marker in at least two separate experiments, the sample was considered as having an allelic imbalance and interpreted as LOH. Samples were evaluated in at least two separate experiments and samples showing prospective LOH at c-CBL repeated a third time which included a new control marker at the BAX locus (data not shown) on chromosome 19 to verify integrity of sample DNA.  Transfection of c-Cbl Constructs  The A549 cell line was transfected using the Fugene HD (Roche, Nutley, NJ) reagent according to the manufacturer's instructions. Eight µg of plasmid DNA, containing either no insert (empty vector), wild-type c-CBL, S80N/H94Y c-CBL, Q249E c-CBL or W802* CBL was used for transfection in a 6-well culture plate. Cells were harvested 48 h after transfection and analyzed for expression.  c-CBL Knockdown  c-CBL knockdown was performed using lentiviral transduction using MISSION lentiviral transduction particles (Sigma-Aldrich, St. Louis, MO) as per manufacturer's instructions. Briefly, 1×105 H358 cells/well were seeded in 6-well plates and infected the following day with c-CBL lentiviral shRNA constructs. To generate stable c-CBL knockdown cell lines, cells were selected for 2 days with 1 µg/ml puromycin. c-CBL levels were determined using whole cell lysates by immunoblotting with anti-CBL antibody (Santa Cruz Biotechnologies, Santa Cruz, CA).  Cell Viability Assay  Cells were transfected as described above in the transfection assay. Forty-eight hours after transfection, viability of cells was assessed using Trypan Blue exclusion.  Wound Healing Assay  A549 cells were seeded in 6-well plates and cultured for 48 h until 100% confluent. The medium was then changed and the cells were transfected as described in the transfection assay. Twelve hours after transfection, a straight scratch was made across the cell layer using a 1 ml pipette tip. The cells were then gently washed with 1× PBS to remove cellular debris and the media was replaced. Photographs were taken of the wound region every 12 h until 48 h.  Western Blot Analysis  Forty eight hours after transfection, cells were collected and washed twice in 1X PBS, then lysed in ice-cold lysis buffer (0.5M Tris-HCl with pH 7.4, 1.5 M NaCl, 2.5% deoxycholic acid, 10 mM EDTA, 10% NP-40, 0.5 mM DTT, 1 mM phenylmethylsulfonyl fluoride, 5 µg/mL leupeptin, and 10 µg/mL aprotinin) for 5 minutes. The lysate was centrifuged at 13,000 rpm for 20 minutes at 4°C, and protein content of the supernatant was measured. Total cell lysates (50 µg/well) were separated by SDS-PAGE electrophoresis and the gels transferred onto nitrocellulose membranes (Whatman, Piscataway, NJ). Membranes were blocked with 5% non-fat dry milk in phosphate-buffered saline containing Tween-20 (PBST) (1X PBS, 0.1% Tween-20) for 1 h at room temperature and incubated with the appropriate primary antibody at 4°C overnight. Membranes then were washed three times with PBST and probed with appropriate horseradish peroxidase (HRP)-conjugated secondary antibody for 1 h at room temperature. The membranes were again washed three times in PBST and bands were visualized using Western blot chemiluminescence reagent (BioRad, Valencia, CA) on a Chemidoc Gel documentation system (BioRad, Valencia, CA). Antibodies were obtained from Santa Cruz Biotechnologies and used at the following dilutions (c-CBL, 1∶5000; c-MET, 1∶5000; EGFR, 1∶5000; ubiquitin, 1∶1000; HA, 1∶5000 and β-actin, 1∶10,000).  Flow Cytometry  Cell cycle analysis was carried out by flow cytometry. Approximately 2×106 cells were grown in media containing 10% FBS. Cells were harvested by trypsin/EDTA treatment, washed with 1X PBS three times and fixed with ice-cold 70% ethanol for 2 h. Cells were washed again with cold PBS and stained with a solution containing 25 µg/mL propidium iodide, 200 µg/mL RNase A, and 0.1% Triton X-100 for 30 minutes in the dark. Cell cycle analysis was performed using a Guava PCA-96 flow cytometer (Guava Technologies, Millipore, Billerica, MA).  Ubiquitin Ligase Activity  293T cells were maintained in culture in DMEM supplemented with 10% FBS and 1% penicillin (100 units/mL) and streptomycin (100 µg/mL) were transfected with 0.2 µg EGFR-pcDNA3 and 2 µg HA-tagged c-CBL constructs as indicated using calcium phosphate according to manufacturer's protocol (Profection, Promega, Madison, WI). Twenty-four hours post-transfection, cells were starved overnight in DMEM supplemented with 0.5% FBS, and then treated with or without EGF (100 ng/ml) for 15 min. The cells were collected and washed two times in ice-cold PBS containing 0.2 mM sodium orthovanadate then lysed in ice-cold lysis buffer (10 mM Tris HCl, pH 7.5, 150 mM NaCl, 5 mM EDTA, 1% Triton X100, 10% Glycerol, 2 mM sodium orthovanadate and protease inhibitors). Lysates were cleared of debris by centrifugation at 16,000 g for 10 min at 4°C. EGFR immunoprecipitations were performed on 200 µg of cleared lysate using 250 ng of rabbit-anti-EGFR and Protein A/G Plus Sepharose overnight at 4°C. Precipitations were washed 5 times in lysis buffer before boiling in Laemmli buffer. Elutions were immunoblotted with anti-ubiquitin and EGFR. Twenty micrograms of cleared lysate were immunoblotted for each of the c-CBL constructs using anti-HA.  Statistical Analysis  Mutation rates between different groups were compared using Fisher's exact test. For continuous variables, group comparisons were performed using analysis of variance (ANOVA) followed by Sidak's adjustment for multiple comparisons. Experiments involving repeated measurements over time were analyzed using repeated measures ANOVA with the Greenhouse-Geisser adjustment to the degrees of freedom. Analyses were conducted using STATA (v10.1) software (Stata Corporation, College Station, TX).  Go to: Results c-CBL Gene Mutations in Lung Cancer  To investigate the role of c-CBL in lung cancer, we analyzed its genomic DNA in tumor and paired normal samples drawn from multiple ethnicities. The lung tumor samples represented Caucasians (n\\u200a=\\u200a50), African-Americans (n\\u200a=\\u200a29), and Taiwanese (n\\u200a=\\u200a40) lung cancer patients. We designed 12 pairs of primers to sequence the coding region of c-CBL gene that spans exons 2 to 16 (Table S2). We identified 8 unique somatic mutations in c-CBL exons among 8 different patients. A variation L620F, a known SNP (rs2227988) in exon 11 was also detected. Importantly, the eight novel non-synonymous mutations were confirmed by sequencing both strands of c-CBL genomic DNA obtained from lung tumor samples (Table 1). Moreover, none of the 8 mutations were detected in the corresponding normal tissue, indicating that these were somatic mutations. Four synonymous single nucleotide variations (SNVs) were also identified but were not used further in this study.  Table 1 Table 1 c-CBL mutation analysis in 119 lung cancer patient tumor tissues. Three of the 8 novel non-synonymous mutations were located in the TKB (tyrosine kinase binding) domain (S80N, H94Y, and Q249E), one in the RING finger domain (V391I), one in the proline-rich region (72515_72517 del ATG), and three in the C-terminal region (W802*, R830K, and A848T) of the c-CBL protein (Figure 1A and Figure S1). In Figure 1B, we show model chromatograms of representative samples.  Figure 1 Figure 1 c-CBL mutations and LOH in non-small cell lung cancer. 11q LOH of c-CBL Gene  Paired lung tumor and normal lung tissue samples from Taiwanese patients (n\\u200a=\\u200a37) were investigated for LOH. Eight (21.6%) showed LOH at the c-CBL locus on chromosome 11 while 29 samples (78.4%) revealed normal allelic contribution at the microsatellite markers (Figures 1C and D).  c-CBL Mutations in Different Ethnic Groups  The c-CBL double mutant S80N/H94Y was found in the same patient and the overall mutation rate for c-CBL in lung tumors was 6.7% (8/119). The frequency of c-CBL mutation was highest in large cell carcinoma (14.7%; 5 of 34 patients) followed by squamous carcinoma (6.3%; 2 of 32 patients) and the least was observed in adenocarcinoma (AD) (1.8%; 1 of 53 patients), although these rates were not statistically significant (p\\u200a=\\u200a0.292). Mutation rates were 6.0% among Caucasians (0 of 20 in AD; 0 of 10 in SQ; and 3 of 20 in LC), 13.8% in African-Americans (1 of 10 in AD; 1 of 10 in SQ; and 2 of 9 in LC), and 2.5% (0 of 23 in AD; 1 of 12 in SQ; and 0 of 5 in LC) in the Taiwanese population. Additionally two Taiwanese patients with lung cancer (one squamous and one adenocarcinoma) had the known SNP L620F. Ethnic differences were not statistically significant, however the power to detect differences was low.  Mutations in MET and EGFR Can Be Co-Associated with c-CBL Alterations  Since East Asians with lung cancer have a higher frequency of EGFR and MET mutations in lung tumors [21], [22], we also determined mutations in EGFR and MET in the same Taiwanese cohort samples and compared the results with the observed c-CBL alterations (LOH and/or mutations). In the 37 samples tested, we did not find any overlap between c-CBL mutations and c-CBL LOH (Figure 2). Of the three c-CBL mutants (including the known L620F SNP, rs2227988), one of the samples had a MET mutation (N375S) and the other had an EGFR mutation (L858R). Among the 8 samples that had a LOH at the c-CBL locus 5 had an additional mutation in MET (N375S) and 2 had an EGFR exon 19 deletion. Twenty-six samples had neither c-CBL mutation nor c-CBL LOH (3 patients had a c-CBL mutation but no c-CBL LOH). Among these 26 samples 9 had a MET mutation (8 N375S, 1 L211W), 13 had an EGFR mutation (7 exon 9 deletion, 6 L858R) and 4 had no other MET or EGFR mutation. Thus the rate of MET or EGFR mutations among patients with LOH at the c-CBL locus (7 of 8) was similar to that seen in patients without c-CBL mutation or LOH (22 of 26 patients) (p\\u200a=\\u200a0.99). These 4 patients with no identifiable mutation in c-CBL, MET or EGFR represented 10.8% of the 37 patients analyzed in the Taiwanese patient cohort. Conversely, 89.2% Taiwanese lung cancer patients have an identifiable mutation in either c-CBL, MET or EGFR or a combination of the three genes (Figure 2). Additionally, we determined p53 and KRAS mutations in these Taiwanese cohorts. Two p53 and 1 KRAS mutation were detected. The single KRAS mutation overlapped with one p53 mutation. This patient also had the EGFR exon 19 deletion but had no c-CBL mutation. The other p53 mutation sample had a c-CBL LOH with concurrent MET N375S mutation. Thus, in the Taiwanese samples analyzed, p53/KRAS mutations and c-CBL mutations were mutually exclusive (data not shown).  Figure 2 Figure 2 c-CBL mutations and relationship to MET and EGFR mutations in lung cancer. Cellular Functions of c-CBL Alterations in the Context of Lung Tumorigenesis  A. E3 activity is intact in the mutant c-CBL proteins To investigate whether the different c-CBL mutations affect the E3 activity, EGFR was chosen as a model substrate for c-CBL E3 function. All of the c-CBL mutants tested enhanced ubiquitination of the activated EGFR similar to the wild-type c-CBL protein. This result demonstrates that the catalytic activity of the c-CBL mutants is not impaired when EGFR was the substrate. (Figure 3A).  Figure 3 Figure 3 Ubiquitination, viability, expression and cell cycle analysis of various c-CBL mutants. B. Effect on lung cancer cell viability The effect of a representative c-CBL mutant from each of the three ethnic backgrounds on lung cancer cell viability in cell lines was determined. S80N/H94Y double mutation, Q249E, and W802* were identified in lung tumor samples obtained from a Caucasian, a Taiwanese and an African-American, respectively. As described in methods, the c-CBL wild-type (WT) and the above three mutants were expressed after cloning them into pAlterMax vector in A549 cells. These cells express relatively low basal levels of endogenous c-CBL (data not shown). Transfection efficiency was comparable between different groups and the number of cells transfected with c-CBL wild-type construct was about 70% compared to control cells that were transfected with the empty vector. Cells transfected with S80N/H94Y, Q249E and W802* c-CBL mutant constructs resulted in increased number of viable cells that was 132.3%, 120.8% and 147.9% higher respectively, relative to the empty vector control transfected cells and significantly different from the wild-type construct (p\\u200a=\\u200a0.022, p\\u200a=\\u200a0.049, and p\\u200a=\\u200a0.008, respectively) (Figure 3B). Relative levels of c-CBL protein in whole cell lysates prepared from samples obtained from a parallel experiment was determined. The c-CBL protein levels in samples representing untransfected and empty vector transfected cells were comparable and those representing the c-CBL WT and the three c-CBL mutants were comparable (Figure 3C).  C. Effect on cell cycle To investigate if the increases in cell viability in different c-CBL mutants are due to increased cellular proliferation, a cell cycle analysis was performed. A549 cells were transfected with the c-CBL WT or the three different mutants: S80N/H94Y, Q249E and W802*. The empty vector transfectant was used as a control. Forty-eight hours after transfection cell cycle analysis was performed as described in materials and methods. There was no significant change in the subG1, G1 or the S phase of the cell cycle among the different mutants compared to the WT construct (p\\u200a=\\u200a0.64, p\\u200a=\\u200a0.40, and p\\u200a=\\u200a0.28, respectively). The G2/M phase of the cell cycle showed an increase in cell numbers for the three mutants, S80N/H94Y, Q249E and W802*, when compared to the WT but again the difference was not statistically significant (p\\u200a=\\u200a0.25) (Figure 3D).  D. Effect on cell motility To investigate the effect of the expression of the above three c-CBL mutants on cell migration, we carried out wound healing assay as described in materials and methods. The closing of the scratch or the wound was monitored at 0, 12, 24, 36, and 48 h. (Figure 4A). In all the samples, that represented cells transfected with mutants, the wound gap was much smaller than that seen in the sample that represented cells transfected with c-CBL WT (p<0.001). We also determined the rate of wound closure for all the five groups. At 48 h, wild-type c-CBL transfectants showed 61.1% open wound while the S80N/H94Y, Q249E and W802* mutants showed 18.7%, 23.9% and 34.3% open wound respectively (p<0.001) (Figure 4B).  Figure 4 Figure 4 c-CBL mutations affect wound healing in A549 cells. E. c-CBL knockdown increases cell viability It is hypothesized that the LOH seen in our samples could lead to decreased expression of c-CBL. Thus we tested the effect of c-CBL knockdown in lung cancer cells. Compared to A549, H358 lung cancer cells express relatively high levels of endogenous c-CBL (data not shown). c-CBL expression was knocked down using lentiviral construct that expressed c-CBL specific shRNA and compared the results with those that were transduced with scrambled shRNA and the results are shown in Figure 5. We identified several clones that revealed varying degrees of c-CBL knockdown showing different sets of c-CBL lentiviral shRNA knockdown efficiency (Figure 5A). Of all the clones tested, Clone 27 was chosen for further experiments. Equal amount of cells were seeded in a 6-well plate and the cell proliferation was measured at various times and the results are depicted in Figure 5B. As expected, number of cells increased in a time dependent fashion from 100 to 190% relative to scrambled shRNA as control in a span of 48 h (p\\u200a=\\u200a0.0002) (Figure 5B). The cell cycle phases in H358 cells that were knocked down with c-CBL shRNA were looked at and compared with the scrambled shRNA. There were no discernable differences between these two constructs in the different phases of the cell cycle (data not shown).  Figure 5 Figure 5 Knockdown of c-CBL using an shRNA increases cell proliferation. Go to: Discussion Our results demonstrate that c-CBL is somatically mutated (or has LOH) in lung cancers, and can significantly contribute to enhanced cell viability and motility. There was also a high prevalence of LOH with respect to c-CBL in lung tumors that harbored MET or EGFR mutation.  In the present study, we have demonstrated the occurrence of c-CBL mutations in lung cancer patients, especially with different ancestral variations. Mutations in c-CBL have been recently reported in juvenile myelomonocytic leukemia and myeloid malignancies. In the AML study, the mutation R420Q located in the junction of the RING finger and the linker region inhibited FMS-like tyrosine kinase 3 (FLT3) internalization and ubiquitination [20], thus contributing to the gain-in-function for the RTK. In addition, mutations such as H398Y, C384R, and L380P mapped to the RING finger domain and the linker region of c-CBL that is required for its E3 activity [23], [24], [25], [26], [27]. Additionally, homozygous mutations in the RING finger domain of the c-CBL gene were described as a result of acquired Uniparental Disomy (UPD) [26]. It is important to note that our results indicate LOH at 11q23 locus and these are mutually exclusive from missense mutations of c-CBL. The somatic mutations were all heterozygous. The mutations in AML led to abrogation of the E3 activity leading to prolonged RTK activation. In addition mutants located on the linker region surrounding the RING finger domain exhibited enhanced AKT signaling in response to cytokine stimulation [26]. In addition, it was shown in NH3T3 cells, that neither mutations in the RING finger nor the linker region causes transformation, however while certain mutations perturbs the ubiquitination, others affect receptor recycling and prolong kinase activity [28].  We report here c-CBL mutations that mapped not only to the RING finger domain, but also to the TKB domain, proline-rich domain and the C-terminal region, but none mapped to the linker region as reported in the AML studies described above [23], [24], [25], [26], [29]. In addition, 8 mutants that we detected were found in different ethnic backgrounds. For example, S80N/H94Y, Q249E, W802* were detected in Caucasians, Taiwanese and African-Americans, respectively. The results point out not only the difference between lung cancer and other cancers, but also genetic polymorphism among different races in the same cancer. Interestingly, there is a large disparity between African-American and other ethnic populations with lung cancer [30]. We have previously shown that there was a low frequency of EGFR and MET mutation in African-Americans as compared with Taiwanese and Caucasians [31]. In this study, the number of African-American samples analyzed was relatively fewer and we found 3 mutations that are unique to this ethnicity. It would now behoove us to further study the genetic alterations that can occur and determine the targeted therapeutics for African-Americans. Our results provide evidence of the importance of c-CBL in tumorigenesis and potential signaling. Our prediction, based on the AML data, would be that the V391I RING finger domain mutation would affect the E3 activity. Also, it will be important to determine the binding partners for c-CBL in the TKB domain and proline rich domain mutations. It has previously been shown that the TKB domain can bind to growth factor receptors and it will be important to determine the cross-binding of these mutants to MET and or EGFR. It would also be important in the future to look at fluorescence in situ hybridization/copy number changes in c-CBL in lung cancer.  c-CBL plays an important role in down regulating RTK-mediated signaling through K63 poly-ubiquitination and subsequent downregulation of RTKs followed by lysosomal degredation [3]. Mono-ubiquitination or ubiquitinated with K63-linked chains of substrates by c-CBL may lead to enhancement of biological and biochemical functions (reviewed in Hermann et al, 2007 [32]). The mutations that we analyzed in our studies all point out to the fact that the E3 activity of c-CBL on EGFR is intact; the EGFR levels in the various mutants remain same (Figure S2). Multiple kinases, both RTKs and non-RTKs could be acted upon by c-CBL, including ERBs, PDGFR, FMS, MET, c-Kit, VEGFR, FLT-1, RON, FGFR, IR, as well as SYK, FYN, LCK, FGR, LYN and c-ABL [3]. In lung cancers the relevant substrates of c-CBL in terms of degradation or signal transduction are yet to be identified.  The observation that c-CBL somatic mutations, especially S80N/H94Y, Q249E and W802* showed increased cell viability and cell motility that is in agreement with the physiological role for D-cbl in the regulation of apoptosis and differentiation identified in Drosophila is very significant [33]. It has been previously shown that activating c-CBL mutation downregulates EGFR signaling and decreases cellular proliferation and migration in breast cancer cell lines [34]. Although the role of c-CBL in the negative regulation of RTKs is well substantiated, thereby suggesting that it is a natural tumor suppressor, studies in cancer cells have revealed both tumor suppressor and tumor promoting activities depending on the type of c-CBL mutation and the number of alleles at the c-CBL locus [24]. In agreement with the above, the three c-CBL mutants described here appear to have tumor growth and metastasis promoting properties. Although these mutants are outside of the RING finger or the linker region of c-CBL, their downstream effects are significant so as to cause increased proliferation and migration, but the substrate affected by these mutations are not known yet. This raises the possibility that some of the cellular functions of c-CBL are independent of its ubiquitin-ligase activity, an area that we are currently investigating. The oncogenic nature of RTKs, addiction of cancers to growth signals and given the clustering of c-CBL, EGFR and MET mutations, it is possible that the transforming effect of c-CBL mutations is most likely a combinatorial effect of the three. We also show that LOH for c-CBL was found in a significant number of samples that harbored MET or EGFR mutations. The fact that about 7% of lung tumor samples are likely to have c-CBL mutations and an additional 22% are likely to harbor c-CBL-related LOH, makes c-CBL a highly mutated molecule in lung cancer. Since LOH alone is not enough to cause a transforming event [35], [36], [37], associated mutation in the MET or EGFR locus or yet another RTK discussed above may play a role in carcinogenesis. We predict that this LOH in c-CBL results in haploinsufficiency that downplays RTK ubiquitination leading to hyperactivity of the RTKs. However, whether this is sufficient cause for tumorigenesis remains to be determined. Consistent with our hypothesis is the fact that c-cbl-/- mice have increased kinase activity in lymphocytes, but is not sufficient for tumor formation [35], [36], [37]. c-CBL LOH could also lead to increased expression of c-CBL from the other allele to compensate for a loss of an allele. Alternately, there could be some form of synergy working with reduced c-CBL levels and mutated receptors that exacerbate the phenotype of each alone.  Previous studies from our lab and others have shown that East Asians with lung cancers have relatively high frequencies of gain-of-function of mutations in RTKs such as EGFR and MET [31]. In a cohort of Japanese patients an activating MET mutation was identified in the splice region that deletes the juxtamembrane domain that is involved E3 activity of c-CBL [38]. This study also found that activation of MET is mutually exclusive of EGFR, KRAS and HER2 gene mutations [38]. We failed to detect such mutations in significant numbers in lung tumor samples obtained from African-Americans (n\\u200a=\\u200a29) and Caucasian (n\\u200a=\\u200a50) patients. One MET mutation was identified in each of the groups whereas 1 and 3 EGFR mutations were identified in the African-American and Caucasian cohorts respectively. EGFR mutations have earlier been identified as one of the key mutations affecting lung adenocarcinoma patients in a comprehensive study of 188 patients [39]. Our study encompasses different histologies of NSCLC. However, the published series did not find any mutations in c-CBL or MET unlike our study that encompassed different subtypes of NSCLC. It is important to note, we have recently shown that MET mutations in lung cancer are in majority germline [31]. We have reported earlier c-CBL mutations in a small cohort of Taiwanese lung cancer samples [40]. In our efforts to understand the ethnic differences in the lung oncogenome, we also looked at PAX transcription factors such as PAX5 and PAX8 that are highly expressed in lung cancers; however there was no preferential expression or mutations of the above genes in lung tumor samples of African-Americans. In this study, we show relatively high frequency of c-CBL mutations in lung cancers, especially in the large cell type among Caucasians and particularly among African-Americans. We therefore propose c-CBL as an efficacious target for lung cancers in African-Americans that needs to be further substantiated. This is all the more important because the prognosis for African-Americans with lung cancer, especially for men is much poorer compared to their Caucasian counterparts [41].  In conclusion, the results presented in this study demonstrate that c-CBL is frequently mutated or even lost in lung cancers. Our results support a role for c-CBL mutants that are independent of its ubiquitination activity. Given the relatively high mutation rates in c-CBL as well as RTKs such as MET and EGFR, it is likely that their combined effect could be synergistic in promoting tumorigenesis.\""
            ]
          },
          "metadata": {
            "tags": []
          },
          "execution_count": 14
        }
      ]
    },
    {
      "cell_type": "code",
      "metadata": {
        "id": "-pUsAd9GJeS-",
        "colab_type": "code",
        "colab": {
          "base_uri": "https://localhost:8080/",
          "height": 54
        },
        "outputId": "113f70a0-216b-49a3-a9b6-249ac2dcbb0b"
      },
      "source": [
        "lu = data_text['TEXT'][1].split()\n",
        "print(lu)"
      ],
      "execution_count": null,
      "outputs": [
        {
          "output_type": "stream",
          "text": [
            "['Abstract', 'Background', 'Non-small', 'cell', 'lung', 'cancer', '(NSCLC)', 'is', 'a', 'heterogeneous', 'group', 'of', 'disorders', 'with', 'a', 'number', 'of', 'genetic', 'and', 'proteomic', 'alterations.', 'c-CBL', 'is', 'an', 'E3', 'ubiquitin', 'ligase', 'and', 'adaptor', 'molecule', 'important', 'in', 'normal', 'homeostasis', 'and', 'cancer.', 'We', 'determined', 'the', 'genetic', 'variations', 'of', 'c-CBL,', 'relationship', 'to', 'receptor', 'tyrosine', 'kinases', '(EGFR', 'and', 'MET),', 'and', 'functionality', 'in', 'NSCLC.', 'Methods', 'and', 'Findings', 'Using', 'archival', 'formalin-fixed', 'paraffin', 'embedded', '(FFPE)', 'extracted', 'genomic', 'DNA,', 'we', 'show', 'that', 'c-CBL', 'mutations', 'occur', 'in', 'somatic', 'fashion', 'for', 'lung', 'cancers.', 'c-CBL', 'mutations', 'were', 'not', 'mutually', 'exclusive', 'of', 'MET', 'or', 'EGFR', 'mutations;', 'however', 'they', 'were', 'independent', 'of', 'p53', 'and', 'KRAS', 'mutations.', 'In', 'normal/tumor', 'pairwise', 'analysis,', 'there', 'was', 'significant', 'loss', 'of', 'heterozygosity', '(LOH)', 'for', 'the', 'c-CBL', 'locus', '(22%,', 'n', '=', '8/37)', 'and', 'none', 'of', 'these', 'samples', 'revealed', 'any', 'mutation', 'in', 'the', 'remaining', 'copy', 'of', 'c-CBL.', 'The', 'c-CBL', 'LOH', 'also', 'positively', 'correlated', 'with', 'EGFR', 'and', 'MET', 'mutations', 'observed', 'in', 'the', 'same', 'samples.', 'Using', 'select', 'c-CBL', 'somatic', 'mutations', 'such', 'as', 'S80N/H94Y,', 'Q249E', 'and', 'W802*', '(obtained', 'from', 'Caucasian,', 'Taiwanese', 'and', 'African-American', 'samples,', 'respectively)', 'transfected', 'in', 'NSCLC', 'cell', 'lines,', 'there', 'was', 'increased', 'cell', 'viability', 'and', 'cell', 'motility.', 'Conclusions', 'Taking', 'the', 'overall', 'mutation', 'rate', 'of', 'c-CBL', 'to', 'be', 'a', 'combination', 'as', 'somatic', 'missense', 'mutation', 'and', 'LOH,', 'it', 'is', 'clear', 'that', 'c-CBL', 'is', 'highly', 'mutated', 'in', 'lung', 'cancers', 'and', 'may', 'play', 'an', 'essential', 'role', 'in', 'lung', 'tumorigenesis', 'and', 'metastasis.', 'Go', 'to:', 'Introduction', 'In', 'the', 'US', 'alone,', 'each', 'year', 'approximately', '219,400', 'people', 'are', 'diagnosed', 'with', 'lung', 'cancers,', 'out', 'of', 'which', 'more', 'than', '145,000', 'of', 'them', 'succumb', 'to', 'the', 'disease', '[1].', 'This', 'number', 'is', 'roughly', 'equivalent', 'to', 'the', 'combined', 'mortality', 'rates', 'of', 'cancers', 'of', 'the', 'breast,', 'prostate,', 'colon,', 'liver,', 'kidney', 'and', 'melanoma', '[1].', 'In', 'addition', 'the', 'prognosis', 'is', 'usually', 'poor', 'and', 'the', 'five-year', 'survival', 'rate', 'is', 'less', 'than', '15%.', 'There', 'are', 'also', 'significant', 'ethnic', 'differences', 'for', 'lung', 'cancer,', 'and', 'the', 'outcome', 'is', 'worse', 'for', 'blacks', 'compared', 'to', 'whites.', 'Gender', 'differences', 'are', 'also', 'striking', 'with', 'women', 'having', 'significantly', 'better', 'prognosis', 'as', 'compared', 'to', 'men.', 'There', 'are', 'a', 'number', 'of', 'genetic', 'alterations', 'that', 'can', 'occur', 'in', 'lung', 'cancer.', 'As', 'an', 'example,', 'in', 'NSCLC,', 'mutations', 'in', 'KRAS,', 'p53,', 'EGFR', 'and', 'MET', 'have', 'been', 'identified.', 'Many', 'of', 'these', 'pathways,', 'especially', 'Receptor', 'Tyrosine', 'Kinases', '(RTKs)', 'are', 'controlled', 'by', 'c-CBL.', 'CBL', '(Casitas', 'B-lineage', 'lymphoma)', 'is', 'a', 'mammalian', 'gene', 'located', 'on', 'human', 'chromosome', '11q23.3', '[2]', 'and', 'is', 'involved', 'in', 'cell', 'signaling', 'and', 'protein', 'ubiquitination', '[3].', 'CBL', 'proteins', 'belong', 'to', 'the', 'RING', 'finger', 'class', 'of', 'ubiquitin', 'ligases', '(E3)', 'and', 'there', 'are', 'three', 'homologues', 'c-CBL,', 'CBL-b,', 'CBL-3', '[4].', 'The', 'c-CBL', 'and', 'CBL-b', 'genes', 'are', 'ubiquitously', 'expressed', 'with', 'the', 'highest', 'levels', 'in', 'hematopoietic', 'tissues', '[5].', 'c-CBL', 'consists', 'of', 'four', 'regions', 'encoding', 'for', 'functionally', 'distinct', 'protein', 'domains:', 'the', 'N-terminal', 'tyrosine', 'kinase', 'binding', '(TKB)', 'domain,', 'the', 'linker', 'region,', 'the', 'catalytic', 'RING', 'finger', 'domain,', 'the', 'proline-rich', 'region', 'and', 'the', 'c-terminal', 'ubiquitin-associated', '(UBA)', 'domain', 'that', 'also', 'overlaps', 'with', 'a', 'leucine-zipper', '(LZ)', 'domain', '[3].', 'Both', 'TKB', 'and', 'RING', 'finger', 'domains', 'are', 'essential', 'for', 'ligand-induced', 'ubiquitination', 'of', 'RTKs', '[6],', '[7],', '[8],', '[9].', 'The', 'RING', 'finger', 'domain', 'is', 'required', 'for', 'the', 'recruitment', 'of', 'E2', 'ubiquitin-conjugating', 'enzymes.', 'The', 'TKB', 'domain', 'includes', 'four-helix', 'bundle', '(4H),', 'a', 'calcium-biding', 'EF', 'hand,', 'and', 'a', 'modified', 'SH2', 'domain,', 'which', 'binds', 'to', 'phosphotyrosine', 'residues', '[3],', '[10],', '[11],', '[12].', 'In', 'addition,', 'the', 'proline-rich', 'region', 'of', 'c-CBL', 'can', 'associate', 'with', 'the', 'SH3', 'domain', 'of', 'Grb2,', 'which', 'can', 'indirectly', 'recruit', 'c-CBL', 'to', 'RTKs', 'via', 'the', 'GRB2', 'adaptor', 'protein', '[7],', '[13],', '[14].', 'c-CBL', 'also', 'binds', 'to', 'EGFR', 'and', 'acts', 'as', 'the', 'E3', 'that', 'targets', 'EGFR', 'for', 'ubiquitination', 'and', 'degradation.', 'Furthermore,', 'CBL', 'desensitizes', 'EGF', 'signaling', 'and', 'opposes', 'cellular', 'proliferation', 'induced', 'by', 'EGF', '[15].', 'EGF', 'activation', 'also', 'appears', 'to', 'activate', 'the', 'tyrosine', 'kinase', 'SRC,', 'which', 'phosphorylates', 'c-CBL', 'and', 'in', 'turn', 'activates', 'the', 'ubiquitination', 'and', 'degradation', 'of', 'EGFR', '[16],', '[17],', '[18].', 'A', 'recent', 'study', 'shows', 'that', 'defective', 'endocytosis', 'of', 'EGFR', 'is', 'characterized', 'by', 'a', 'deletion', 'mutant', 'and', 'the', 'point', 'mutation', 'L858R,', 'whereby', 'its', 'association', 'with', 'c-CBL', 'and', 'subsequent', 'ubiquitination', 'are', 'impaired', '[19].', 'Recently,', 'the', 'first', 'human', 'c-CBL', 'mutations', 'were', 'reported', 'in', 'acute', 'myeloid', 'leukemia', '(AML)', 'patients', '[20].', 'The', 'mutation', 'R420Q', 'inhibits', 'FMS-like', 'tyrosine', 'kinase', '3', '(FLT3)', 'internalization', 'and', 'ubiquitination', '[20].', 'Not', 'only', 'can', 'E3', 'activity', 'be', 'important', 'in', 'oncogenesis,', 'c-CBL', 'has', 'a', 'dual', 'but', 'separate', 'function', 'as', 'a', 'signal', 'transduction', 'molecule.', 'We', 'have', 'previously', 'shown', 'that', 'c-CBL', 'is', 'important', 'in', 'binding', 'CRKL', 'and', 'BCR/ABL', 'in', 'hematopoietic', 'cells.', 'Also,', 'it', 'can', 'bind', 'and', 'modulate', 'functions', 'of', 'cytoskeleton', 'by', 'binding', 'to', 'proteins', 'like', 'talin', 'and', 'paxillin.', 'The', 'TKB', 'domain', 'is', 'important', 'in', 'binding', 'to', 'a', 'number', 'of', 'molecules,', 'and', 'they', 'then', 'function', 'in', 'signal', 'transduction.', 'Given', 'the', 'critical', 'role', 'of', 'CBL', 'in', 'normal', 'homeostasis', 'and', 'cancer,', 'we', 'hypothesized', 'that', 'it', 'might', 'be', 'mutated', 'in', 'lung', 'cancers.', 'In', 'this', 'study,', 'we', 'report', 'novel', 'c-CBL', 'somatic', 'mutations', 'S80N/H94Y,', 'Q249E', 'and', 'W802*', 'in', 'Caucasian,', 'Taiwanese', 'and', 'African-American', 'lung', 'cancer', 'patients,', 'respectively.', 'Expressing', 'these', 'mutations', 'in', 'NSCLC', 'cell', 'lines', 'lead', 'to', 'increased', 'proliferation', 'and', 'cell', 'motility.', 'We', 'show', 'that', 'c-CBL', 'mutations', 'occur', 'with', 'or', 'without', 'MET', 'or', 'EGFR', 'mutations', 'but', 'are', 'mutually', 'exclusive', 'of', 'a', 'LOH', 'at', 'the', 'c-CBL', 'locus.', 'Additionally,', 'c-CBL', 'LOH', 'is', 'associated', 'with', 'either', 'MET', 'or', 'EGFR', 'mutations.', 'We', 'thus', 'hypothesize', 'that', 'c-CBL', 'mutations', 'might', 'contribute', 'to', 'the', 'oncogenic', 'potential', 'of', 'MET', 'and', 'EGFR', 'in', 'lung', 'cancer.', 'Go', 'to:', 'Methods', 'Ethics', 'Statement', 'Written', 'consent', 'on', 'all', 'research', 'on', 'human', 'subjects', 'has', 'been', 'obtained', 'from', 'the', 'Institutional', 'Review', 'Board,', 'University', 'of', 'Chicago', 'and', 'covers', 'all', 'research', 'performed', 'in', 'the', 'laboratory.', 'The', 'following', 'is', 'their', 'contact', 'information:', 'Institutional', 'Review', 'Board,', 'The', 'University', 'of', 'Chicago,', 'McGiffert', 'Hall,', '5751', 'S.', 'Woodlawn', 'Ave.,', '2nd', 'floor,', 'Chicago,', 'IL', '60637.', 'Written', 'informed', 'consents', 'were', 'received', 'from', 'all', 'patients', 'whose', 'tissue', 'samples', 'were', 'used', 'for', 'this', 'study.', 'Tissue', 'Samples', 'Lung', 'cancer', 'tissue', 'and', 'paired', 'adjacent', 'normal', 'lung', 'tissues', 'were', 'obtained', 'from', '50', 'Caucasian,', '29', 'African-Americans', 'and', '40', 'Taiwanese', 'NSCLC', 'patients', 'who', 'were', 'recruited', 'at', 'the', 'University', 'of', 'Chicago', 'Hospital', '(Chicago,', 'USA)', '(Caucasian', 'and', 'African-American', 'patients)', 'and', 'Taipei', 'Veterans', 'General', 'Hospital', 'of', 'Taiwan', '(Taiwanese', 'patients)', 'after', 'obtaining', 'appropriate', 'Institutional', 'Review', 'Board', 'permission', 'and', 'informed', 'consent', 'from', 'the', 'patients.', 'Out', 'of', '119', 'samples,', '77', 'were', 'men,', '38', 'were', 'women', 'and', '4', 'were', 'unknown', 'with', 'age', 'at', 'diagnosis', 'ranging', 'from', '47', 'to', '90', 'years.', 'In', 'terms', 'of', 'tumor', 'types,', '53', 'were', 'adenocarcinoma,', '32', 'were', 'squamous', 'cell', 'carcinoma', 'and', '34', 'were', 'large', 'cell', 'carcinoma.', '49', 'were', 'stage', 'I,', '14', 'were', 'stage', 'II,', '34', 'were', 'stage', 'III,', 'and', '13', 'were', 'stage', 'IV', '(Table', 'S1).', 'Cell', 'Culture', 'Human', 'non-small', 'cell', 'lung', 'carcinoma', 'cells', 'A549', 'and', 'H358', 'were', 'maintained', 'in', 'DMEM', 'and', 'RPMI-1640,', 'respectively.', 'Human', 'embryonic', 'kidney', '293T', 'cells', 'were', 'cultured', 'in', 'DMEM.', 'Media', 'were', 'supplemented', 'with', '10%', 'fetal', 'bovine', 'serum,', '100', 'units/ml', 'of', 'penicillin,', 'and', '100', 'µg/ml', 'of', 'streptomycin', '(Invitrogen,', 'Carlsbad,', 'CA).', 'Cells', 'were', 'cultured', 'at', '37°C', 'in', 'a', 'humidified', 'incubator', 'containing', '5%', 'CO2.', 'c-CBL', 'Gene', 'Mutational', 'Analysis', 'Exons', '2', 'to', '16', 'of', 'c-CBL', 'gene', 'were', 'individually', 'amplified', 'by', 'polymerase', 'chain', 'reaction', '(PCR).', 'Primers', 'are', 'listed', 'in', 'Table', 'S2.', 'PCR', 'conditions', 'were', '1', 'cycle', 'of', '95°C', 'for', '5', 'minutes;', '35', 'cycles', 'of', '94°C', 'for', '30', 'seconds,', '58°C', 'for', '30', 'seconds', 'and', '72°C', 'for', '2', 'minutes;', 'and', 'one', 'cycle', 'of', '72°C', 'for', '10', 'minutes.', 'PCR', 'products', 'were', 'treated', 'with', 'ExoSAP-IT', '(USB', 'Corporation,', 'Cleveland,', 'OH)', 'and', 'sequenced', 'by', 'Big-Dye', 'Terminator', 'Chemistry', '(Applied', 'Biosystems,', 'Foster', 'City,', 'CA).', 'Sequencing', 'was', 'performed', 'on', 'the', 'forward', 'coding', 'strand', 'with', 'confirmation', 'of', 'c-CBL', 'alterations', 'performed', 'by', 'sequencing', 'the', 'reverse', 'strand', 'as', 'well.', 'Chromatograms', 'were', 'analyzed', 'for', 'mutations', 'using', 'Mutation', 'Surveyor', 'v2.61', '(Softgenetics,', 'State', 'College,', 'PA).', 'Plasmid', 'Constructs', 'and', 'Site-Directed', 'Mutagenesis', 'The', 'wild-type', 'c-CBL', 'cDNA', 'insert', 'was', 'subcloned', 'into', 'the', 'pAlterMax', 'expression', 'vector', 'using', 'XhoI', 'and', 'SalI', 'restriction', 'enzyme', 'sites', '(Promega,', 'Madison,', 'WI).', 'Using', 'this', 'parental', 'plasmid', 'pAlterMax-c-CBL,', 'the', 'TKB', 'domain', 'double', 'mutation', '(S80N/H94Y),', 'the', 'point', 'mutation', '(Q249E),', 'and', 'the', 'C-terminal', 'point', 'mutation', 'W802*', 'of', 'c-CBL', 'were', 'created', 'using', 'the', 'following', 'primers:', '5′-GCTGGCGCTAAAGAATAACCCACCTTATATCTTAGAC-3′', 'and', '5′-CTACCAGATACCTACCAGTATCTCCGTACTATCTTGTC-3′', 'for', 'the', 'double', 'mutation', 'S80N/H94Y;', '5′-CTTTACCCGACTCTTTGAGCCCTGGTCCTCTTTGC-3′', 'for', 'Q249E,', 'and', '5′-CAGCTCCTCCTTTGGCTGATTGTCTCTGGATGGTGATC-3′', 'for', 'W802*', 'along', 'with', 'their', 'complementary', 'primers', 'using', 'the', 'QuickChange', 'Site-Directed', 'Mutagenesis', 'XL', 'kit', '(Stratagene,', 'La', 'Jolla,', 'CA)', 'according', 'to', 'the', \"manufacturer's\", 'instructions.', 'The', 'constructs', 'were', 'confirmed', 'for', 'the', 'point', 'mutations', 'by', 'standard', 'DNA', 'sequencing', 'of', 'both', 'strands.', 'Loss', 'of', 'Heterozygosity', '(LOH)', 'Analysis', 'Five', 'microsatellites', 'on', 'chromosome', '11', '(3', 'on', '11q', 'at', 'or', 'within', '200', 'kb', 'up', 'or', 'downstream', 'of', 'the', 'c-CBL', 'gene', 'and', '2', 'control', 'markers', 'on', '11p)', 'were', 'selected', 'for', 'analysis', '(Table', 'S3).', 'Established', 'microsatellite', 'markers', 'and', 'respective', 'primer', 'sequences', 'were', 'selected', 'from', 'the', 'GeneLoc', 'database', '(http://genecards.weizmann.ac.il/geneloc/index.shtml,', 'Weizmann', 'Institute', 'of', 'Science,', 'Rehovot,', 'Israel).', 'Primers', 'were', 'custom', 'designed', 'and', 'each', 'forward', 'primer', 'was', 'fluorescently', 'labeled', 'at', 'the', '5′', 'end', 'with', 'FAM,', 'PET,', 'NED,', 'or', 'VIC', '(Applied', 'Biosystems).', 'Primer', 'annealing', 'temperatures', 'and', 'duplex', 'scores', 'were', 'evaluated', 'with', 'NIST', 'Primer', 'Tools', '(http://yellow.nist.gov:8444/dnaAnalysis/primerToolsPage.do;', 'National', 'Institute', 'of', 'Standards', 'and', 'Technology,', 'Gaithersburg,', 'MD).', 'Primers', 'were', 'verified', 'by', 'performing', 'PCR', 'with', 'control', 'DNA', '(isolated', 'from', 'TK6', 'cells)', 'and', 'resolving', 'the', 'products', 'on', 'agarose', 'gels.', 'Bands', 'were', 'visualized', 'with', 'an', 'UV', 'transilluminator.', 'Genomic', 'DNA', 'was', 'extracted', 'from', 'tumor', 'samples', 'and', 'paired', 'normal', 'lung', 'tissue.', 'Primers', 'were', 'grouped', 'into', 'multiplex', 'combinations', 'shown', 'in', 'Table', 'S4.', 'Marker', 'D11S929', 'served', 'as', 'an', 'internal', 'control', 'to', 'check', 'for', 'consistency', 'in', 'PCRs', 'and', 'of', 'peaks', 'from', 'capillary', 'electrophoresis.', 'Multiplex', 'PCRs', 'were', 'carried', 'out', 'in', 'a', 'volume', 'of', '10', 'µL', 'that', 'contained', '1', 'µL', 'genomic', 'DNA', '(20–50', 'ng),', '0.5', 'µM', 'of', 'each', 'primer', '(1.0', 'µM', 'total', 'for', 'each', 'primer', 'pair),', '400', 'µM', 'dNTPs,', '1X', 'PCR', 'buffer', 'containing', 'MgCl2,', 'and', '0.2', 'U', 'Taq', 'DNA', 'polymerase.', 'PCR', 'was', 'performed', 'on', 'the', 'ABI', 'GeneAmp', '9700', 'PCR', 'System', 'under', 'the', 'following', 'conditions:', '5', 'min', 'at', '94°C;', '30', 'cycles', 'of', '30', 'sec', 'at', '94°C,', '1', 'min', 'at', '60°C,', '1', 'min', 'at', '72°C;', 'and', '5', 'min', 'at', '72°C.', 'The', 'PCR', 'products', 'were', 'separated', 'by', 'capillary', 'electrophoresis', 'on', 'an', 'ABI', '3130XL', 'DNA', 'Analyzer.', 'Chromatograms', 'were', 'analyzed', 'with', 'Peak', 'Scanner', '1.0', 'and', 'GeneMapper', '3.7', 'software', '(Applied', 'Biosystems)', 'for', 'allelic', 'alterations.', 'The', 'area', 'of', 'the', 'peaks', 'produced', 'by', 'the', 'DNA', 'PCR', 'products', 'was', 'quantified', 'for', 'each', 'allele.', 'The', 'ratio', 'of', 'the', 'allelic', 'areas', 'was', 'calculated', 'for', 'each', 'tumor', 'and', 'paired', 'normal', 'DNA', 'sample.', 'When', 'the', 'qLOH', '(allelic', 'ratio', 'for', 'the', 'tumor', 'peaks', 'divided', 'by', 'the', 'allelic', 'ratio', 'of', 'paired', 'normal', 'sample)', 'was', '≤0.5', 'or', '≥2.0', 'for', 'c-CBL', 'and', 'at', 'least', 'one', 'other', '11q', 'marker', 'in', 'at', 'least', 'two', 'separate', 'experiments,', 'the', 'sample', 'was', 'considered', 'as', 'having', 'an', 'allelic', 'imbalance', 'and', 'interpreted', 'as', 'LOH.', 'Samples', 'were', 'evaluated', 'in', 'at', 'least', 'two', 'separate', 'experiments', 'and', 'samples', 'showing', 'prospective', 'LOH', 'at', 'c-CBL', 'repeated', 'a', 'third', 'time', 'which', 'included', 'a', 'new', 'control', 'marker', 'at', 'the', 'BAX', 'locus', '(data', 'not', 'shown)', 'on', 'chromosome', '19', 'to', 'verify', 'integrity', 'of', 'sample', 'DNA.', 'Transfection', 'of', 'c-Cbl', 'Constructs', 'The', 'A549', 'cell', 'line', 'was', 'transfected', 'using', 'the', 'Fugene', 'HD', '(Roche,', 'Nutley,', 'NJ)', 'reagent', 'according', 'to', 'the', \"manufacturer's\", 'instructions.', 'Eight', 'µg', 'of', 'plasmid', 'DNA,', 'containing', 'either', 'no', 'insert', '(empty', 'vector),', 'wild-type', 'c-CBL,', 'S80N/H94Y', 'c-CBL,', 'Q249E', 'c-CBL', 'or', 'W802*', 'CBL', 'was', 'used', 'for', 'transfection', 'in', 'a', '6-well', 'culture', 'plate.', 'Cells', 'were', 'harvested', '48', 'h', 'after', 'transfection', 'and', 'analyzed', 'for', 'expression.', 'c-CBL', 'Knockdown', 'c-CBL', 'knockdown', 'was', 'performed', 'using', 'lentiviral', 'transduction', 'using', 'MISSION', 'lentiviral', 'transduction', 'particles', '(Sigma-Aldrich,', 'St.', 'Louis,', 'MO)', 'as', 'per', \"manufacturer's\", 'instructions.', 'Briefly,', '1×105', 'H358', 'cells/well', 'were', 'seeded', 'in', '6-well', 'plates', 'and', 'infected', 'the', 'following', 'day', 'with', 'c-CBL', 'lentiviral', 'shRNA', 'constructs.', 'To', 'generate', 'stable', 'c-CBL', 'knockdown', 'cell', 'lines,', 'cells', 'were', 'selected', 'for', '2', 'days', 'with', '1', 'µg/ml', 'puromycin.', 'c-CBL', 'levels', 'were', 'determined', 'using', 'whole', 'cell', 'lysates', 'by', 'immunoblotting', 'with', 'anti-CBL', 'antibody', '(Santa', 'Cruz', 'Biotechnologies,', 'Santa', 'Cruz,', 'CA).', 'Cell', 'Viability', 'Assay', 'Cells', 'were', 'transfected', 'as', 'described', 'above', 'in', 'the', 'transfection', 'assay.', 'Forty-eight', 'hours', 'after', 'transfection,', 'viability', 'of', 'cells', 'was', 'assessed', 'using', 'Trypan', 'Blue', 'exclusion.', 'Wound', 'Healing', 'Assay', 'A549', 'cells', 'were', 'seeded', 'in', '6-well', 'plates', 'and', 'cultured', 'for', '48', 'h', 'until', '100%', 'confluent.', 'The', 'medium', 'was', 'then', 'changed', 'and', 'the', 'cells', 'were', 'transfected', 'as', 'described', 'in', 'the', 'transfection', 'assay.', 'Twelve', 'hours', 'after', 'transfection,', 'a', 'straight', 'scratch', 'was', 'made', 'across', 'the', 'cell', 'layer', 'using', 'a', '1', 'ml', 'pipette', 'tip.', 'The', 'cells', 'were', 'then', 'gently', 'washed', 'with', '1×', 'PBS', 'to', 'remove', 'cellular', 'debris', 'and', 'the', 'media', 'was', 'replaced.', 'Photographs', 'were', 'taken', 'of', 'the', 'wound', 'region', 'every', '12', 'h', 'until', '48', 'h.', 'Western', 'Blot', 'Analysis', 'Forty', 'eight', 'hours', 'after', 'transfection,', 'cells', 'were', 'collected', 'and', 'washed', 'twice', 'in', '1X', 'PBS,', 'then', 'lysed', 'in', 'ice-cold', 'lysis', 'buffer', '(0.5M', 'Tris-HCl', 'with', 'pH', '7.4,', '1.5', 'M', 'NaCl,', '2.5%', 'deoxycholic', 'acid,', '10', 'mM', 'EDTA,', '10%', 'NP-40,', '0.5', 'mM', 'DTT,', '1', 'mM', 'phenylmethylsulfonyl', 'fluoride,', '5', 'µg/mL', 'leupeptin,', 'and', '10', 'µg/mL', 'aprotinin)', 'for', '5', 'minutes.', 'The', 'lysate', 'was', 'centrifuged', 'at', '13,000', 'rpm', 'for', '20', 'minutes', 'at', '4°C,', 'and', 'protein', 'content', 'of', 'the', 'supernatant', 'was', 'measured.', 'Total', 'cell', 'lysates', '(50', 'µg/well)', 'were', 'separated', 'by', 'SDS-PAGE', 'electrophoresis', 'and', 'the', 'gels', 'transferred', 'onto', 'nitrocellulose', 'membranes', '(Whatman,', 'Piscataway,', 'NJ).', 'Membranes', 'were', 'blocked', 'with', '5%', 'non-fat', 'dry', 'milk', 'in', 'phosphate-buffered', 'saline', 'containing', 'Tween-20', '(PBST)', '(1X', 'PBS,', '0.1%', 'Tween-20)', 'for', '1', 'h', 'at', 'room', 'temperature', 'and', 'incubated', 'with', 'the', 'appropriate', 'primary', 'antibody', 'at', '4°C', 'overnight.', 'Membranes', 'then', 'were', 'washed', 'three', 'times', 'with', 'PBST', 'and', 'probed', 'with', 'appropriate', 'horseradish', 'peroxidase', '(HRP)-conjugated', 'secondary', 'antibody', 'for', '1', 'h', 'at', 'room', 'temperature.', 'The', 'membranes', 'were', 'again', 'washed', 'three', 'times', 'in', 'PBST', 'and', 'bands', 'were', 'visualized', 'using', 'Western', 'blot', 'chemiluminescence', 'reagent', '(BioRad,', 'Valencia,', 'CA)', 'on', 'a', 'Chemidoc', 'Gel', 'documentation', 'system', '(BioRad,', 'Valencia,', 'CA).', 'Antibodies', 'were', 'obtained', 'from', 'Santa', 'Cruz', 'Biotechnologies', 'and', 'used', 'at', 'the', 'following', 'dilutions', '(c-CBL,', '1∶5000;', 'c-MET,', '1∶5000;', 'EGFR,', '1∶5000;', 'ubiquitin,', '1∶1000;', 'HA,', '1∶5000', 'and', 'β-actin,', '1∶10,000).', 'Flow', 'Cytometry', 'Cell', 'cycle', 'analysis', 'was', 'carried', 'out', 'by', 'flow', 'cytometry.', 'Approximately', '2×106', 'cells', 'were', 'grown', 'in', 'media', 'containing', '10%', 'FBS.', 'Cells', 'were', 'harvested', 'by', 'trypsin/EDTA', 'treatment,', 'washed', 'with', '1X', 'PBS', 'three', 'times', 'and', 'fixed', 'with', 'ice-cold', '70%', 'ethanol', 'for', '2', 'h.', 'Cells', 'were', 'washed', 'again', 'with', 'cold', 'PBS', 'and', 'stained', 'with', 'a', 'solution', 'containing', '25', 'µg/mL', 'propidium', 'iodide,', '200', 'µg/mL', 'RNase', 'A,', 'and', '0.1%', 'Triton', 'X-100', 'for', '30', 'minutes', 'in', 'the', 'dark.', 'Cell', 'cycle', 'analysis', 'was', 'performed', 'using', 'a', 'Guava', 'PCA-96', 'flow', 'cytometer', '(Guava', 'Technologies,', 'Millipore,', 'Billerica,', 'MA).', 'Ubiquitin', 'Ligase', 'Activity', '293T', 'cells', 'were', 'maintained', 'in', 'culture', 'in', 'DMEM', 'supplemented', 'with', '10%', 'FBS', 'and', '1%', 'penicillin', '(100', 'units/mL)', 'and', 'streptomycin', '(100', 'µg/mL)', 'were', 'transfected', 'with', '0.2', 'µg', 'EGFR-pcDNA3', 'and', '2', 'µg', 'HA-tagged', 'c-CBL', 'constructs', 'as', 'indicated', 'using', 'calcium', 'phosphate', 'according', 'to', \"manufacturer's\", 'protocol', '(Profection,', 'Promega,', 'Madison,', 'WI).', 'Twenty-four', 'hours', 'post-transfection,', 'cells', 'were', 'starved', 'overnight', 'in', 'DMEM', 'supplemented', 'with', '0.5%', 'FBS,', 'and', 'then', 'treated', 'with', 'or', 'without', 'EGF', '(100', 'ng/ml)', 'for', '15', 'min.', 'The', 'cells', 'were', 'collected', 'and', 'washed', 'two', 'times', 'in', 'ice-cold', 'PBS', 'containing', '0.2', 'mM', 'sodium', 'orthovanadate', 'then', 'lysed', 'in', 'ice-cold', 'lysis', 'buffer', '(10', 'mM', 'Tris', 'HCl,', 'pH', '7.5,', '150', 'mM', 'NaCl,', '5', 'mM', 'EDTA,', '1%', 'Triton', 'X100,', '10%', 'Glycerol,', '2', 'mM', 'sodium', 'orthovanadate', 'and', 'protease', 'inhibitors).', 'Lysates', 'were', 'cleared', 'of', 'debris', 'by', 'centrifugation', 'at', '16,000', 'g', 'for', '10', 'min', 'at', '4°C.', 'EGFR', 'immunoprecipitations', 'were', 'performed', 'on', '200', 'µg', 'of', 'cleared', 'lysate', 'using', '250', 'ng', 'of', 'rabbit-anti-EGFR', 'and', 'Protein', 'A/G', 'Plus', 'Sepharose', 'overnight', 'at', '4°C.', 'Precipitations', 'were', 'washed', '5', 'times', 'in', 'lysis', 'buffer', 'before', 'boiling', 'in', 'Laemmli', 'buffer.', 'Elutions', 'were', 'immunoblotted', 'with', 'anti-ubiquitin', 'and', 'EGFR.', 'Twenty', 'micrograms', 'of', 'cleared', 'lysate', 'were', 'immunoblotted', 'for', 'each', 'of', 'the', 'c-CBL', 'constructs', 'using', 'anti-HA.', 'Statistical', 'Analysis', 'Mutation', 'rates', 'between', 'different', 'groups', 'were', 'compared', 'using', \"Fisher's\", 'exact', 'test.', 'For', 'continuous', 'variables,', 'group', 'comparisons', 'were', 'performed', 'using', 'analysis', 'of', 'variance', '(ANOVA)', 'followed', 'by', \"Sidak's\", 'adjustment', 'for', 'multiple', 'comparisons.', 'Experiments', 'involving', 'repeated', 'measurements', 'over', 'time', 'were', 'analyzed', 'using', 'repeated', 'measures', 'ANOVA', 'with', 'the', 'Greenhouse-Geisser', 'adjustment', 'to', 'the', 'degrees', 'of', 'freedom.', 'Analyses', 'were', 'conducted', 'using', 'STATA', '(v10.1)', 'software', '(Stata', 'Corporation,', 'College', 'Station,', 'TX).', 'Go', 'to:', 'Results', 'c-CBL', 'Gene', 'Mutations', 'in', 'Lung', 'Cancer', 'To', 'investigate', 'the', 'role', 'of', 'c-CBL', 'in', 'lung', 'cancer,', 'we', 'analyzed', 'its', 'genomic', 'DNA', 'in', 'tumor', 'and', 'paired', 'normal', 'samples', 'drawn', 'from', 'multiple', 'ethnicities.', 'The', 'lung', 'tumor', 'samples', 'represented', 'Caucasians', '(n', '=', '50),', 'African-Americans', '(n', '=', '29),', 'and', 'Taiwanese', '(n', '=', '40)', 'lung', 'cancer', 'patients.', 'We', 'designed', '12', 'pairs', 'of', 'primers', 'to', 'sequence', 'the', 'coding', 'region', 'of', 'c-CBL', 'gene', 'that', 'spans', 'exons', '2', 'to', '16', '(Table', 'S2).', 'We', 'identified', '8', 'unique', 'somatic', 'mutations', 'in', 'c-CBL', 'exons', 'among', '8', 'different', 'patients.', 'A', 'variation', 'L620F,', 'a', 'known', 'SNP', '(rs2227988)', 'in', 'exon', '11', 'was', 'also', 'detected.', 'Importantly,', 'the', 'eight', 'novel', 'non-synonymous', 'mutations', 'were', 'confirmed', 'by', 'sequencing', 'both', 'strands', 'of', 'c-CBL', 'genomic', 'DNA', 'obtained', 'from', 'lung', 'tumor', 'samples', '(Table', '1).', 'Moreover,', 'none', 'of', 'the', '8', 'mutations', 'were', 'detected', 'in', 'the', 'corresponding', 'normal', 'tissue,', 'indicating', 'that', 'these', 'were', 'somatic', 'mutations.', 'Four', 'synonymous', 'single', 'nucleotide', 'variations', '(SNVs)', 'were', 'also', 'identified', 'but', 'were', 'not', 'used', 'further', 'in', 'this', 'study.', 'Table', '1', 'Table', '1', 'c-CBL', 'mutation', 'analysis', 'in', '119', 'lung', 'cancer', 'patient', 'tumor', 'tissues.', 'Three', 'of', 'the', '8', 'novel', 'non-synonymous', 'mutations', 'were', 'located', 'in', 'the', 'TKB', '(tyrosine', 'kinase', 'binding)', 'domain', '(S80N,', 'H94Y,', 'and', 'Q249E),', 'one', 'in', 'the', 'RING', 'finger', 'domain', '(V391I),', 'one', 'in', 'the', 'proline-rich', 'region', '(72515_72517', 'del', 'ATG),', 'and', 'three', 'in', 'the', 'C-terminal', 'region', '(W802*,', 'R830K,', 'and', 'A848T)', 'of', 'the', 'c-CBL', 'protein', '(Figure', '1A', 'and', 'Figure', 'S1).', 'In', 'Figure', '1B,', 'we', 'show', 'model', 'chromatograms', 'of', 'representative', 'samples.', 'Figure', '1', 'Figure', '1', 'c-CBL', 'mutations', 'and', 'LOH', 'in', 'non-small', 'cell', 'lung', 'cancer.', '11q', 'LOH', 'of', 'c-CBL', 'Gene', 'Paired', 'lung', 'tumor', 'and', 'normal', 'lung', 'tissue', 'samples', 'from', 'Taiwanese', 'patients', '(n', '=', '37)', 'were', 'investigated', 'for', 'LOH.', 'Eight', '(21.6%)', 'showed', 'LOH', 'at', 'the', 'c-CBL', 'locus', 'on', 'chromosome', '11', 'while', '29', 'samples', '(78.4%)', 'revealed', 'normal', 'allelic', 'contribution', 'at', 'the', 'microsatellite', 'markers', '(Figures', '1C', 'and', 'D).', 'c-CBL', 'Mutations', 'in', 'Different', 'Ethnic', 'Groups', 'The', 'c-CBL', 'double', 'mutant', 'S80N/H94Y', 'was', 'found', 'in', 'the', 'same', 'patient', 'and', 'the', 'overall', 'mutation', 'rate', 'for', 'c-CBL', 'in', 'lung', 'tumors', 'was', '6.7%', '(8/119).', 'The', 'frequency', 'of', 'c-CBL', 'mutation', 'was', 'highest', 'in', 'large', 'cell', 'carcinoma', '(14.7%;', '5', 'of', '34', 'patients)', 'followed', 'by', 'squamous', 'carcinoma', '(6.3%;', '2', 'of', '32', 'patients)', 'and', 'the', 'least', 'was', 'observed', 'in', 'adenocarcinoma', '(AD)', '(1.8%;', '1', 'of', '53', 'patients),', 'although', 'these', 'rates', 'were', 'not', 'statistically', 'significant', '(p', '=', '0.292).', 'Mutation', 'rates', 'were', '6.0%', 'among', 'Caucasians', '(0', 'of', '20', 'in', 'AD;', '0', 'of', '10', 'in', 'SQ;', 'and', '3', 'of', '20', 'in', 'LC),', '13.8%', 'in', 'African-Americans', '(1', 'of', '10', 'in', 'AD;', '1', 'of', '10', 'in', 'SQ;', 'and', '2', 'of', '9', 'in', 'LC),', 'and', '2.5%', '(0', 'of', '23', 'in', 'AD;', '1', 'of', '12', 'in', 'SQ;', 'and', '0', 'of', '5', 'in', 'LC)', 'in', 'the', 'Taiwanese', 'population.', 'Additionally', 'two', 'Taiwanese', 'patients', 'with', 'lung', 'cancer', '(one', 'squamous', 'and', 'one', 'adenocarcinoma)', 'had', 'the', 'known', 'SNP', 'L620F.', 'Ethnic', 'differences', 'were', 'not', 'statistically', 'significant,', 'however', 'the', 'power', 'to', 'detect', 'differences', 'was', 'low.', 'Mutations', 'in', 'MET', 'and', 'EGFR', 'Can', 'Be', 'Co-Associated', 'with', 'c-CBL', 'Alterations', 'Since', 'East', 'Asians', 'with', 'lung', 'cancer', 'have', 'a', 'higher', 'frequency', 'of', 'EGFR', 'and', 'MET', 'mutations', 'in', 'lung', 'tumors', '[21],', '[22],', 'we', 'also', 'determined', 'mutations', 'in', 'EGFR', 'and', 'MET', 'in', 'the', 'same', 'Taiwanese', 'cohort', 'samples', 'and', 'compared', 'the', 'results', 'with', 'the', 'observed', 'c-CBL', 'alterations', '(LOH', 'and/or', 'mutations).', 'In', 'the', '37', 'samples', 'tested,', 'we', 'did', 'not', 'find', 'any', 'overlap', 'between', 'c-CBL', 'mutations', 'and', 'c-CBL', 'LOH', '(Figure', '2).', 'Of', 'the', 'three', 'c-CBL', 'mutants', '(including', 'the', 'known', 'L620F', 'SNP,', 'rs2227988),', 'one', 'of', 'the', 'samples', 'had', 'a', 'MET', 'mutation', '(N375S)', 'and', 'the', 'other', 'had', 'an', 'EGFR', 'mutation', '(L858R).', 'Among', 'the', '8', 'samples', 'that', 'had', 'a', 'LOH', 'at', 'the', 'c-CBL', 'locus', '5', 'had', 'an', 'additional', 'mutation', 'in', 'MET', '(N375S)', 'and', '2', 'had', 'an', 'EGFR', 'exon', '19', 'deletion.', 'Twenty-six', 'samples', 'had', 'neither', 'c-CBL', 'mutation', 'nor', 'c-CBL', 'LOH', '(3', 'patients', 'had', 'a', 'c-CBL', 'mutation', 'but', 'no', 'c-CBL', 'LOH).', 'Among', 'these', '26', 'samples', '9', 'had', 'a', 'MET', 'mutation', '(8', 'N375S,', '1', 'L211W),', '13', 'had', 'an', 'EGFR', 'mutation', '(7', 'exon', '9', 'deletion,', '6', 'L858R)', 'and', '4', 'had', 'no', 'other', 'MET', 'or', 'EGFR', 'mutation.', 'Thus', 'the', 'rate', 'of', 'MET', 'or', 'EGFR', 'mutations', 'among', 'patients', 'with', 'LOH', 'at', 'the', 'c-CBL', 'locus', '(7', 'of', '8)', 'was', 'similar', 'to', 'that', 'seen', 'in', 'patients', 'without', 'c-CBL', 'mutation', 'or', 'LOH', '(22', 'of', '26', 'patients)', '(p', '=', '0.99).', 'These', '4', 'patients', 'with', 'no', 'identifiable', 'mutation', 'in', 'c-CBL,', 'MET', 'or', 'EGFR', 'represented', '10.8%', 'of', 'the', '37', 'patients', 'analyzed', 'in', 'the', 'Taiwanese', 'patient', 'cohort.', 'Conversely,', '89.2%', 'Taiwanese', 'lung', 'cancer', 'patients', 'have', 'an', 'identifiable', 'mutation', 'in', 'either', 'c-CBL,', 'MET', 'or', 'EGFR', 'or', 'a', 'combination', 'of', 'the', 'three', 'genes', '(Figure', '2).', 'Additionally,', 'we', 'determined', 'p53', 'and', 'KRAS', 'mutations', 'in', 'these', 'Taiwanese', 'cohorts.', 'Two', 'p53', 'and', '1', 'KRAS', 'mutation', 'were', 'detected.', 'The', 'single', 'KRAS', 'mutation', 'overlapped', 'with', 'one', 'p53', 'mutation.', 'This', 'patient', 'also', 'had', 'the', 'EGFR', 'exon', '19', 'deletion', 'but', 'had', 'no', 'c-CBL', 'mutation.', 'The', 'other', 'p53', 'mutation', 'sample', 'had', 'a', 'c-CBL', 'LOH', 'with', 'concurrent', 'MET', 'N375S', 'mutation.', 'Thus,', 'in', 'the', 'Taiwanese', 'samples', 'analyzed,', 'p53/KRAS', 'mutations', 'and', 'c-CBL', 'mutations', 'were', 'mutually', 'exclusive', '(data', 'not', 'shown).', 'Figure', '2', 'Figure', '2', 'c-CBL', 'mutations', 'and', 'relationship', 'to', 'MET', 'and', 'EGFR', 'mutations', 'in', 'lung', 'cancer.', 'Cellular', 'Functions', 'of', 'c-CBL', 'Alterations', 'in', 'the', 'Context', 'of', 'Lung', 'Tumorigenesis', 'A.', 'E3', 'activity', 'is', 'intact', 'in', 'the', 'mutant', 'c-CBL', 'proteins', 'To', 'investigate', 'whether', 'the', 'different', 'c-CBL', 'mutations', 'affect', 'the', 'E3', 'activity,', 'EGFR', 'was', 'chosen', 'as', 'a', 'model', 'substrate', 'for', 'c-CBL', 'E3', 'function.', 'All', 'of', 'the', 'c-CBL', 'mutants', 'tested', 'enhanced', 'ubiquitination', 'of', 'the', 'activated', 'EGFR', 'similar', 'to', 'the', 'wild-type', 'c-CBL', 'protein.', 'This', 'result', 'demonstrates', 'that', 'the', 'catalytic', 'activity', 'of', 'the', 'c-CBL', 'mutants', 'is', 'not', 'impaired', 'when', 'EGFR', 'was', 'the', 'substrate.', '(Figure', '3A).', 'Figure', '3', 'Figure', '3', 'Ubiquitination,', 'viability,', 'expression', 'and', 'cell', 'cycle', 'analysis', 'of', 'various', 'c-CBL', 'mutants.', 'B.', 'Effect', 'on', 'lung', 'cancer', 'cell', 'viability', 'The', 'effect', 'of', 'a', 'representative', 'c-CBL', 'mutant', 'from', 'each', 'of', 'the', 'three', 'ethnic', 'backgrounds', 'on', 'lung', 'cancer', 'cell', 'viability', 'in', 'cell', 'lines', 'was', 'determined.', 'S80N/H94Y', 'double', 'mutation,', 'Q249E,', 'and', 'W802*', 'were', 'identified', 'in', 'lung', 'tumor', 'samples', 'obtained', 'from', 'a', 'Caucasian,', 'a', 'Taiwanese', 'and', 'an', 'African-American,', 'respectively.', 'As', 'described', 'in', 'methods,', 'the', 'c-CBL', 'wild-type', '(WT)', 'and', 'the', 'above', 'three', 'mutants', 'were', 'expressed', 'after', 'cloning', 'them', 'into', 'pAlterMax', 'vector', 'in', 'A549', 'cells.', 'These', 'cells', 'express', 'relatively', 'low', 'basal', 'levels', 'of', 'endogenous', 'c-CBL', '(data', 'not', 'shown).', 'Transfection', 'efficiency', 'was', 'comparable', 'between', 'different', 'groups', 'and', 'the', 'number', 'of', 'cells', 'transfected', 'with', 'c-CBL', 'wild-type', 'construct', 'was', 'about', '70%', 'compared', 'to', 'control', 'cells', 'that', 'were', 'transfected', 'with', 'the', 'empty', 'vector.', 'Cells', 'transfected', 'with', 'S80N/H94Y,', 'Q249E', 'and', 'W802*', 'c-CBL', 'mutant', 'constructs', 'resulted', 'in', 'increased', 'number', 'of', 'viable', 'cells', 'that', 'was', '132.3%,', '120.8%', 'and', '147.9%', 'higher', 'respectively,', 'relative', 'to', 'the', 'empty', 'vector', 'control', 'transfected', 'cells', 'and', 'significantly', 'different', 'from', 'the', 'wild-type', 'construct', '(p', '=', '0.022,', 'p', '=', '0.049,', 'and', 'p', '=', '0.008,', 'respectively)', '(Figure', '3B).', 'Relative', 'levels', 'of', 'c-CBL', 'protein', 'in', 'whole', 'cell', 'lysates', 'prepared', 'from', 'samples', 'obtained', 'from', 'a', 'parallel', 'experiment', 'was', 'determined.', 'The', 'c-CBL', 'protein', 'levels', 'in', 'samples', 'representing', 'untransfected', 'and', 'empty', 'vector', 'transfected', 'cells', 'were', 'comparable', 'and', 'those', 'representing', 'the', 'c-CBL', 'WT', 'and', 'the', 'three', 'c-CBL', 'mutants', 'were', 'comparable', '(Figure', '3C).', 'C.', 'Effect', 'on', 'cell', 'cycle', 'To', 'investigate', 'if', 'the', 'increases', 'in', 'cell', 'viability', 'in', 'different', 'c-CBL', 'mutants', 'are', 'due', 'to', 'increased', 'cellular', 'proliferation,', 'a', 'cell', 'cycle', 'analysis', 'was', 'performed.', 'A549', 'cells', 'were', 'transfected', 'with', 'the', 'c-CBL', 'WT', 'or', 'the', 'three', 'different', 'mutants:', 'S80N/H94Y,', 'Q249E', 'and', 'W802*.', 'The', 'empty', 'vector', 'transfectant', 'was', 'used', 'as', 'a', 'control.', 'Forty-eight', 'hours', 'after', 'transfection', 'cell', 'cycle', 'analysis', 'was', 'performed', 'as', 'described', 'in', 'materials', 'and', 'methods.', 'There', 'was', 'no', 'significant', 'change', 'in', 'the', 'subG1,', 'G1', 'or', 'the', 'S', 'phase', 'of', 'the', 'cell', 'cycle', 'among', 'the', 'different', 'mutants', 'compared', 'to', 'the', 'WT', 'construct', '(p', '=', '0.64,', 'p', '=', '0.40,', 'and', 'p', '=', '0.28,', 'respectively).', 'The', 'G2/M', 'phase', 'of', 'the', 'cell', 'cycle', 'showed', 'an', 'increase', 'in', 'cell', 'numbers', 'for', 'the', 'three', 'mutants,', 'S80N/H94Y,', 'Q249E', 'and', 'W802*,', 'when', 'compared', 'to', 'the', 'WT', 'but', 'again', 'the', 'difference', 'was', 'not', 'statistically', 'significant', '(p', '=', '0.25)', '(Figure', '3D).', 'D.', 'Effect', 'on', 'cell', 'motility', 'To', 'investigate', 'the', 'effect', 'of', 'the', 'expression', 'of', 'the', 'above', 'three', 'c-CBL', 'mutants', 'on', 'cell', 'migration,', 'we', 'carried', 'out', 'wound', 'healing', 'assay', 'as', 'described', 'in', 'materials', 'and', 'methods.', 'The', 'closing', 'of', 'the', 'scratch', 'or', 'the', 'wound', 'was', 'monitored', 'at', '0,', '12,', '24,', '36,', 'and', '48', 'h.', '(Figure', '4A).', 'In', 'all', 'the', 'samples,', 'that', 'represented', 'cells', 'transfected', 'with', 'mutants,', 'the', 'wound', 'gap', 'was', 'much', 'smaller', 'than', 'that', 'seen', 'in', 'the', 'sample', 'that', 'represented', 'cells', 'transfected', 'with', 'c-CBL', 'WT', '(p<0.001).', 'We', 'also', 'determined', 'the', 'rate', 'of', 'wound', 'closure', 'for', 'all', 'the', 'five', 'groups.', 'At', '48', 'h,', 'wild-type', 'c-CBL', 'transfectants', 'showed', '61.1%', 'open', 'wound', 'while', 'the', 'S80N/H94Y,', 'Q249E', 'and', 'W802*', 'mutants', 'showed', '18.7%,', '23.9%', 'and', '34.3%', 'open', 'wound', 'respectively', '(p<0.001)', '(Figure', '4B).', 'Figure', '4', 'Figure', '4', 'c-CBL', 'mutations', 'affect', 'wound', 'healing', 'in', 'A549', 'cells.', 'E.', 'c-CBL', 'knockdown', 'increases', 'cell', 'viability', 'It', 'is', 'hypothesized', 'that', 'the', 'LOH', 'seen', 'in', 'our', 'samples', 'could', 'lead', 'to', 'decreased', 'expression', 'of', 'c-CBL.', 'Thus', 'we', 'tested', 'the', 'effect', 'of', 'c-CBL', 'knockdown', 'in', 'lung', 'cancer', 'cells.', 'Compared', 'to', 'A549,', 'H358', 'lung', 'cancer', 'cells', 'express', 'relatively', 'high', 'levels', 'of', 'endogenous', 'c-CBL', '(data', 'not', 'shown).', 'c-CBL', 'expression', 'was', 'knocked', 'down', 'using', 'lentiviral', 'construct', 'that', 'expressed', 'c-CBL', 'specific', 'shRNA', 'and', 'compared', 'the', 'results', 'with', 'those', 'that', 'were', 'transduced', 'with', 'scrambled', 'shRNA', 'and', 'the', 'results', 'are', 'shown', 'in', 'Figure', '5.', 'We', 'identified', 'several', 'clones', 'that', 'revealed', 'varying', 'degrees', 'of', 'c-CBL', 'knockdown', 'showing', 'different', 'sets', 'of', 'c-CBL', 'lentiviral', 'shRNA', 'knockdown', 'efficiency', '(Figure', '5A).', 'Of', 'all', 'the', 'clones', 'tested,', 'Clone', '27', 'was', 'chosen', 'for', 'further', 'experiments.', 'Equal', 'amount', 'of', 'cells', 'were', 'seeded', 'in', 'a', '6-well', 'plate', 'and', 'the', 'cell', 'proliferation', 'was', 'measured', 'at', 'various', 'times', 'and', 'the', 'results', 'are', 'depicted', 'in', 'Figure', '5B.', 'As', 'expected,', 'number', 'of', 'cells', 'increased', 'in', 'a', 'time', 'dependent', 'fashion', 'from', '100', 'to', '190%', 'relative', 'to', 'scrambled', 'shRNA', 'as', 'control', 'in', 'a', 'span', 'of', '48', 'h', '(p', '=', '0.0002)', '(Figure', '5B).', 'The', 'cell', 'cycle', 'phases', 'in', 'H358', 'cells', 'that', 'were', 'knocked', 'down', 'with', 'c-CBL', 'shRNA', 'were', 'looked', 'at', 'and', 'compared', 'with', 'the', 'scrambled', 'shRNA.', 'There', 'were', 'no', 'discernable', 'differences', 'between', 'these', 'two', 'constructs', 'in', 'the', 'different', 'phases', 'of', 'the', 'cell', 'cycle', '(data', 'not', 'shown).', 'Figure', '5', 'Figure', '5', 'Knockdown', 'of', 'c-CBL', 'using', 'an', 'shRNA', 'increases', 'cell', 'proliferation.', 'Go', 'to:', 'Discussion', 'Our', 'results', 'demonstrate', 'that', 'c-CBL', 'is', 'somatically', 'mutated', '(or', 'has', 'LOH)', 'in', 'lung', 'cancers,', 'and', 'can', 'significantly', 'contribute', 'to', 'enhanced', 'cell', 'viability', 'and', 'motility.', 'There', 'was', 'also', 'a', 'high', 'prevalence', 'of', 'LOH', 'with', 'respect', 'to', 'c-CBL', 'in', 'lung', 'tumors', 'that', 'harbored', 'MET', 'or', 'EGFR', 'mutation.', 'In', 'the', 'present', 'study,', 'we', 'have', 'demonstrated', 'the', 'occurrence', 'of', 'c-CBL', 'mutations', 'in', 'lung', 'cancer', 'patients,', 'especially', 'with', 'different', 'ancestral', 'variations.', 'Mutations', 'in', 'c-CBL', 'have', 'been', 'recently', 'reported', 'in', 'juvenile', 'myelomonocytic', 'leukemia', 'and', 'myeloid', 'malignancies.', 'In', 'the', 'AML', 'study,', 'the', 'mutation', 'R420Q', 'located', 'in', 'the', 'junction', 'of', 'the', 'RING', 'finger', 'and', 'the', 'linker', 'region', 'inhibited', 'FMS-like', 'tyrosine', 'kinase', '3', '(FLT3)', 'internalization', 'and', 'ubiquitination', '[20],', 'thus', 'contributing', 'to', 'the', 'gain-in-function', 'for', 'the', 'RTK.', 'In', 'addition,', 'mutations', 'such', 'as', 'H398Y,', 'C384R,', 'and', 'L380P', 'mapped', 'to', 'the', 'RING', 'finger', 'domain', 'and', 'the', 'linker', 'region', 'of', 'c-CBL', 'that', 'is', 'required', 'for', 'its', 'E3', 'activity', '[23],', '[24],', '[25],', '[26],', '[27].', 'Additionally,', 'homozygous', 'mutations', 'in', 'the', 'RING', 'finger', 'domain', 'of', 'the', 'c-CBL', 'gene', 'were', 'described', 'as', 'a', 'result', 'of', 'acquired', 'Uniparental', 'Disomy', '(UPD)', '[26].', 'It', 'is', 'important', 'to', 'note', 'that', 'our', 'results', 'indicate', 'LOH', 'at', '11q23', 'locus', 'and', 'these', 'are', 'mutually', 'exclusive', 'from', 'missense', 'mutations', 'of', 'c-CBL.', 'The', 'somatic', 'mutations', 'were', 'all', 'heterozygous.', 'The', 'mutations', 'in', 'AML', 'led', 'to', 'abrogation', 'of', 'the', 'E3', 'activity', 'leading', 'to', 'prolonged', 'RTK', 'activation.', 'In', 'addition', 'mutants', 'located', 'on', 'the', 'linker', 'region', 'surrounding', 'the', 'RING', 'finger', 'domain', 'exhibited', 'enhanced', 'AKT', 'signaling', 'in', 'response', 'to', 'cytokine', 'stimulation', '[26].', 'In', 'addition,', 'it', 'was', 'shown', 'in', 'NH3T3', 'cells,', 'that', 'neither', 'mutations', 'in', 'the', 'RING', 'finger', 'nor', 'the', 'linker', 'region', 'causes', 'transformation,', 'however', 'while', 'certain', 'mutations', 'perturbs', 'the', 'ubiquitination,', 'others', 'affect', 'receptor', 'recycling', 'and', 'prolong', 'kinase', 'activity', '[28].', 'We', 'report', 'here', 'c-CBL', 'mutations', 'that', 'mapped', 'not', 'only', 'to', 'the', 'RING', 'finger', 'domain,', 'but', 'also', 'to', 'the', 'TKB', 'domain,', 'proline-rich', 'domain', 'and', 'the', 'C-terminal', 'region,', 'but', 'none', 'mapped', 'to', 'the', 'linker', 'region', 'as', 'reported', 'in', 'the', 'AML', 'studies', 'described', 'above', '[23],', '[24],', '[25],', '[26],', '[29].', 'In', 'addition,', '8', 'mutants', 'that', 'we', 'detected', 'were', 'found', 'in', 'different', 'ethnic', 'backgrounds.', 'For', 'example,', 'S80N/H94Y,', 'Q249E,', 'W802*', 'were', 'detected', 'in', 'Caucasians,', 'Taiwanese', 'and', 'African-Americans,', 'respectively.', 'The', 'results', 'point', 'out', 'not', 'only', 'the', 'difference', 'between', 'lung', 'cancer', 'and', 'other', 'cancers,', 'but', 'also', 'genetic', 'polymorphism', 'among', 'different', 'races', 'in', 'the', 'same', 'cancer.', 'Interestingly,', 'there', 'is', 'a', 'large', 'disparity', 'between', 'African-American', 'and', 'other', 'ethnic', 'populations', 'with', 'lung', 'cancer', '[30].', 'We', 'have', 'previously', 'shown', 'that', 'there', 'was', 'a', 'low', 'frequency', 'of', 'EGFR', 'and', 'MET', 'mutation', 'in', 'African-Americans', 'as', 'compared', 'with', 'Taiwanese', 'and', 'Caucasians', '[31].', 'In', 'this', 'study,', 'the', 'number', 'of', 'African-American', 'samples', 'analyzed', 'was', 'relatively', 'fewer', 'and', 'we', 'found', '3', 'mutations', 'that', 'are', 'unique', 'to', 'this', 'ethnicity.', 'It', 'would', 'now', 'behoove', 'us', 'to', 'further', 'study', 'the', 'genetic', 'alterations', 'that', 'can', 'occur', 'and', 'determine', 'the', 'targeted', 'therapeutics', 'for', 'African-Americans.', 'Our', 'results', 'provide', 'evidence', 'of', 'the', 'importance', 'of', 'c-CBL', 'in', 'tumorigenesis', 'and', 'potential', 'signaling.', 'Our', 'prediction,', 'based', 'on', 'the', 'AML', 'data,', 'would', 'be', 'that', 'the', 'V391I', 'RING', 'finger', 'domain', 'mutation', 'would', 'affect', 'the', 'E3', 'activity.', 'Also,', 'it', 'will', 'be', 'important', 'to', 'determine', 'the', 'binding', 'partners', 'for', 'c-CBL', 'in', 'the', 'TKB', 'domain', 'and', 'proline', 'rich', 'domain', 'mutations.', 'It', 'has', 'previously', 'been', 'shown', 'that', 'the', 'TKB', 'domain', 'can', 'bind', 'to', 'growth', 'factor', 'receptors', 'and', 'it', 'will', 'be', 'important', 'to', 'determine', 'the', 'cross-binding', 'of', 'these', 'mutants', 'to', 'MET', 'and', 'or', 'EGFR.', 'It', 'would', 'also', 'be', 'important', 'in', 'the', 'future', 'to', 'look', 'at', 'fluorescence', 'in', 'situ', 'hybridization/copy', 'number', 'changes', 'in', 'c-CBL', 'in', 'lung', 'cancer.', 'c-CBL', 'plays', 'an', 'important', 'role', 'in', 'down', 'regulating', 'RTK-mediated', 'signaling', 'through', 'K63', 'poly-ubiquitination', 'and', 'subsequent', 'downregulation', 'of', 'RTKs', 'followed', 'by', 'lysosomal', 'degredation', '[3].', 'Mono-ubiquitination', 'or', 'ubiquitinated', 'with', 'K63-linked', 'chains', 'of', 'substrates', 'by', 'c-CBL', 'may', 'lead', 'to', 'enhancement', 'of', 'biological', 'and', 'biochemical', 'functions', '(reviewed', 'in', 'Hermann', 'et', 'al,', '2007', '[32]).', 'The', 'mutations', 'that', 'we', 'analyzed', 'in', 'our', 'studies', 'all', 'point', 'out', 'to', 'the', 'fact', 'that', 'the', 'E3', 'activity', 'of', 'c-CBL', 'on', 'EGFR', 'is', 'intact;', 'the', 'EGFR', 'levels', 'in', 'the', 'various', 'mutants', 'remain', 'same', '(Figure', 'S2).', 'Multiple', 'kinases,', 'both', 'RTKs', 'and', 'non-RTKs', 'could', 'be', 'acted', 'upon', 'by', 'c-CBL,', 'including', 'ERBs,', 'PDGFR,', 'FMS,', 'MET,', 'c-Kit,', 'VEGFR,', 'FLT-1,', 'RON,', 'FGFR,', 'IR,', 'as', 'well', 'as', 'SYK,', 'FYN,', 'LCK,', 'FGR,', 'LYN', 'and', 'c-ABL', '[3].', 'In', 'lung', 'cancers', 'the', 'relevant', 'substrates', 'of', 'c-CBL', 'in', 'terms', 'of', 'degradation', 'or', 'signal', 'transduction', 'are', 'yet', 'to', 'be', 'identified.', 'The', 'observation', 'that', 'c-CBL', 'somatic', 'mutations,', 'especially', 'S80N/H94Y,', 'Q249E', 'and', 'W802*', 'showed', 'increased', 'cell', 'viability', 'and', 'cell', 'motility', 'that', 'is', 'in', 'agreement', 'with', 'the', 'physiological', 'role', 'for', 'D-cbl', 'in', 'the', 'regulation', 'of', 'apoptosis', 'and', 'differentiation', 'identified', 'in', 'Drosophila', 'is', 'very', 'significant', '[33].', 'It', 'has', 'been', 'previously', 'shown', 'that', 'activating', 'c-CBL', 'mutation', 'downregulates', 'EGFR', 'signaling', 'and', 'decreases', 'cellular', 'proliferation', 'and', 'migration', 'in', 'breast', 'cancer', 'cell', 'lines', '[34].', 'Although', 'the', 'role', 'of', 'c-CBL', 'in', 'the', 'negative', 'regulation', 'of', 'RTKs', 'is', 'well', 'substantiated,', 'thereby', 'suggesting', 'that', 'it', 'is', 'a', 'natural', 'tumor', 'suppressor,', 'studies', 'in', 'cancer', 'cells', 'have', 'revealed', 'both', 'tumor', 'suppressor', 'and', 'tumor', 'promoting', 'activities', 'depending', 'on', 'the', 'type', 'of', 'c-CBL', 'mutation', 'and', 'the', 'number', 'of', 'alleles', 'at', 'the', 'c-CBL', 'locus', '[24].', 'In', 'agreement', 'with', 'the', 'above,', 'the', 'three', 'c-CBL', 'mutants', 'described', 'here', 'appear', 'to', 'have', 'tumor', 'growth', 'and', 'metastasis', 'promoting', 'properties.', 'Although', 'these', 'mutants', 'are', 'outside', 'of', 'the', 'RING', 'finger', 'or', 'the', 'linker', 'region', 'of', 'c-CBL,', 'their', 'downstream', 'effects', 'are', 'significant', 'so', 'as', 'to', 'cause', 'increased', 'proliferation', 'and', 'migration,', 'but', 'the', 'substrate', 'affected', 'by', 'these', 'mutations', 'are', 'not', 'known', 'yet.', 'This', 'raises', 'the', 'possibility', 'that', 'some', 'of', 'the', 'cellular', 'functions', 'of', 'c-CBL', 'are', 'independent', 'of', 'its', 'ubiquitin-ligase', 'activity,', 'an', 'area', 'that', 'we', 'are', 'currently', 'investigating.', 'The', 'oncogenic', 'nature', 'of', 'RTKs,', 'addiction', 'of', 'cancers', 'to', 'growth', 'signals', 'and', 'given', 'the', 'clustering', 'of', 'c-CBL,', 'EGFR', 'and', 'MET', 'mutations,', 'it', 'is', 'possible', 'that', 'the', 'transforming', 'effect', 'of', 'c-CBL', 'mutations', 'is', 'most', 'likely', 'a', 'combinatorial', 'effect', 'of', 'the', 'three.', 'We', 'also', 'show', 'that', 'LOH', 'for', 'c-CBL', 'was', 'found', 'in', 'a', 'significant', 'number', 'of', 'samples', 'that', 'harbored', 'MET', 'or', 'EGFR', 'mutations.', 'The', 'fact', 'that', 'about', '7%', 'of', 'lung', 'tumor', 'samples', 'are', 'likely', 'to', 'have', 'c-CBL', 'mutations', 'and', 'an', 'additional', '22%', 'are', 'likely', 'to', 'harbor', 'c-CBL-related', 'LOH,', 'makes', 'c-CBL', 'a', 'highly', 'mutated', 'molecule', 'in', 'lung', 'cancer.', 'Since', 'LOH', 'alone', 'is', 'not', 'enough', 'to', 'cause', 'a', 'transforming', 'event', '[35],', '[36],', '[37],', 'associated', 'mutation', 'in', 'the', 'MET', 'or', 'EGFR', 'locus', 'or', 'yet', 'another', 'RTK', 'discussed', 'above', 'may', 'play', 'a', 'role', 'in', 'carcinogenesis.', 'We', 'predict', 'that', 'this', 'LOH', 'in', 'c-CBL', 'results', 'in', 'haploinsufficiency', 'that', 'downplays', 'RTK', 'ubiquitination', 'leading', 'to', 'hyperactivity', 'of', 'the', 'RTKs.', 'However,', 'whether', 'this', 'is', 'sufficient', 'cause', 'for', 'tumorigenesis', 'remains', 'to', 'be', 'determined.', 'Consistent', 'with', 'our', 'hypothesis', 'is', 'the', 'fact', 'that', 'c-cbl-/-', 'mice', 'have', 'increased', 'kinase', 'activity', 'in', 'lymphocytes,', 'but', 'is', 'not', 'sufficient', 'for', 'tumor', 'formation', '[35],', '[36],', '[37].', 'c-CBL', 'LOH', 'could', 'also', 'lead', 'to', 'increased', 'expression', 'of', 'c-CBL', 'from', 'the', 'other', 'allele', 'to', 'compensate', 'for', 'a', 'loss', 'of', 'an', 'allele.', 'Alternately,', 'there', 'could', 'be', 'some', 'form', 'of', 'synergy', 'working', 'with', 'reduced', 'c-CBL', 'levels', 'and', 'mutated', 'receptors', 'that', 'exacerbate', 'the', 'phenotype', 'of', 'each', 'alone.', 'Previous', 'studies', 'from', 'our', 'lab', 'and', 'others', 'have', 'shown', 'that', 'East', 'Asians', 'with', 'lung', 'cancers', 'have', 'relatively', 'high', 'frequencies', 'of', 'gain-of-function', 'of', 'mutations', 'in', 'RTKs', 'such', 'as', 'EGFR', 'and', 'MET', '[31].', 'In', 'a', 'cohort', 'of', 'Japanese', 'patients', 'an', 'activating', 'MET', 'mutation', 'was', 'identified', 'in', 'the', 'splice', 'region', 'that', 'deletes', 'the', 'juxtamembrane', 'domain', 'that', 'is', 'involved', 'E3', 'activity', 'of', 'c-CBL', '[38].', 'This', 'study', 'also', 'found', 'that', 'activation', 'of', 'MET', 'is', 'mutually', 'exclusive', 'of', 'EGFR,', 'KRAS', 'and', 'HER2', 'gene', 'mutations', '[38].', 'We', 'failed', 'to', 'detect', 'such', 'mutations', 'in', 'significant', 'numbers', 'in', 'lung', 'tumor', 'samples', 'obtained', 'from', 'African-Americans', '(n', '=', '29)', 'and', 'Caucasian', '(n', '=', '50)', 'patients.', 'One', 'MET', 'mutation', 'was', 'identified', 'in', 'each', 'of', 'the', 'groups', 'whereas', '1', 'and', '3', 'EGFR', 'mutations', 'were', 'identified', 'in', 'the', 'African-American', 'and', 'Caucasian', 'cohorts', 'respectively.', 'EGFR', 'mutations', 'have', 'earlier', 'been', 'identified', 'as', 'one', 'of', 'the', 'key', 'mutations', 'affecting', 'lung', 'adenocarcinoma', 'patients', 'in', 'a', 'comprehensive', 'study', 'of', '188', 'patients', '[39].', 'Our', 'study', 'encompasses', 'different', 'histologies', 'of', 'NSCLC.', 'However,', 'the', 'published', 'series', 'did', 'not', 'find', 'any', 'mutations', 'in', 'c-CBL', 'or', 'MET', 'unlike', 'our', 'study', 'that', 'encompassed', 'different', 'subtypes', 'of', 'NSCLC.', 'It', 'is', 'important', 'to', 'note,', 'we', 'have', 'recently', 'shown', 'that', 'MET', 'mutations', 'in', 'lung', 'cancer', 'are', 'in', 'majority', 'germline', '[31].', 'We', 'have', 'reported', 'earlier', 'c-CBL', 'mutations', 'in', 'a', 'small', 'cohort', 'of', 'Taiwanese', 'lung', 'cancer', 'samples', '[40].', 'In', 'our', 'efforts', 'to', 'understand', 'the', 'ethnic', 'differences', 'in', 'the', 'lung', 'oncogenome,', 'we', 'also', 'looked', 'at', 'PAX', 'transcription', 'factors', 'such', 'as', 'PAX5', 'and', 'PAX8', 'that', 'are', 'highly', 'expressed', 'in', 'lung', 'cancers;', 'however', 'there', 'was', 'no', 'preferential', 'expression', 'or', 'mutations', 'of', 'the', 'above', 'genes', 'in', 'lung', 'tumor', 'samples', 'of', 'African-Americans.', 'In', 'this', 'study,', 'we', 'show', 'relatively', 'high', 'frequency', 'of', 'c-CBL', 'mutations', 'in', 'lung', 'cancers,', 'especially', 'in', 'the', 'large', 'cell', 'type', 'among', 'Caucasians', 'and', 'particularly', 'among', 'African-Americans.', 'We', 'therefore', 'propose', 'c-CBL', 'as', 'an', 'efficacious', 'target', 'for', 'lung', 'cancers', 'in', 'African-Americans', 'that', 'needs', 'to', 'be', 'further', 'substantiated.', 'This', 'is', 'all', 'the', 'more', 'important', 'because', 'the', 'prognosis', 'for', 'African-Americans', 'with', 'lung', 'cancer,', 'especially', 'for', 'men', 'is', 'much', 'poorer', 'compared', 'to', 'their', 'Caucasian', 'counterparts', '[41].', 'In', 'conclusion,', 'the', 'results', 'presented', 'in', 'this', 'study', 'demonstrate', 'that', 'c-CBL', 'is', 'frequently', 'mutated', 'or', 'even', 'lost', 'in', 'lung', 'cancers.', 'Our', 'results', 'support', 'a', 'role', 'for', 'c-CBL', 'mutants', 'that', 'are', 'independent', 'of', 'its', 'ubiquitination', 'activity.', 'Given', 'the', 'relatively', 'high', 'mutation', 'rates', 'in', 'c-CBL', 'as', 'well', 'as', 'RTKs', 'such', 'as', 'MET', 'and', 'EGFR,', 'it', 'is', 'likely', 'that', 'their', 'combined', 'effect', 'could', 'be', 'synergistic', 'in', 'promoting', 'tumorigenesis.']\n"
          ],
          "name": "stdout"
        }
      ]
    },
    {
      "cell_type": "code",
      "metadata": {
        "id": "35PXqni23_0D",
        "colab_type": "code",
        "colab": {
          "base_uri": "https://localhost:8080/",
          "height": 54
        },
        "outputId": "c57f57b3-75f5-4721-b1fd-f35100b7a2f4"
      },
      "source": [
        "gene_vectorize = CountVectorizer()\n",
        "train_gene_feature_onehotCodin = gene_vectorize.fit_transform(lu)\n",
        "lop=gene_vectorize.vocabulary_\n",
        "print(lop)"
      ],
      "execution_count": null,
      "outputs": [
        {
          "output_type": "stream",
          "text": [
            "{'abstract': 109, 'background': 198, 'non': 855, 'small': 1143, 'cell': 260, 'lung': 759, 'cancer': 245, 'nsclc': 864, 'is': 693, 'heterogeneous': 611, 'group': 583, 'of': 875, 'disorders': 408, 'with': 1356, 'number': 866, 'genetic': 573, 'and': 169, 'proteomic': 1004, 'alterations': 154, 'cbl': 258, 'an': 163, 'e3': 435, 'ubiquitin': 1288, 'ligase': 739, 'adaptor': 127, 'molecule': 817, 'important': 648, 'in': 650, 'normal': 858, 'homeostasis': 619, 'we': 1337, 'determined': 393, 'the': 1231, 'variations': 1319, 'relationship': 1040, 'to': 1254, 'receptor': 1027, 'tyrosine': 1286, 'kinases': 709, 'egfr': 447, 'met': 795, 'functionality': 548, 'methods': 797, 'findings': 516, 'using': 1309, 'archival': 184, 'formalin': 534, 'fixed': 521, 'paraffin': 908, 'embedded': 452, 'ffpe': 510, 'extracted': 499, 'genomic': 574, 'dna': 413, 'show': 1122, 'that': 1230, 'mutations': 835, 'occur': 873, 'somatic': 1152, 'fashion': 505, 'for': 532, 'cancers': 246, 'were': 1340, 'not': 859, 'mutually': 836, 'exclusive': 487, 'or': 886, 'however': 625, 'they': 1240, 'independent': 659, 'p53': 900, 'kras': 714, 'tumor': 1274, 'pairwise': 906, 'analysis': 165, 'there': 1236, 'was': 1335, 'significant': 1134, 'loss': 755, 'heterozygosity': 612, 'loh': 752, 'locus': 751, '22': 41, '37': 61, 'none': 856, 'these': 1239, 'samples': 1093, 'revealed': 1067, 'any': 176, 'mutation': 833, 'remaining': 1045, 'copy': 340, 'also': 153, 'positively': 965, 'correlated': 342, 'observed': 870, 'same': 1091, 'select': 1106, 'such': 1193, 'as': 188, 's80n': 1088, 'h94y': 591, 'q249e': 1009, 'w802': 1334, 'obtained': 871, 'from': 545, 'caucasian': 254, 'taiwanese': 1212, 'african': 138, 'american': 157, 'respectively': 1061, 'transfected': 1262, 'lines': 745, 'increased': 655, 'viability': 1329, 'motility': 825, 'conclusions': 311, 'taking': 1214, 'overall': 895, 'rate': 1019, 'be': 205, 'combination': 300, 'missense': 809, 'it': 696, 'clear': 282, 'highly': 617, 'mutated': 832, 'may': 783, 'play': 954, 'essential': 470, 'role': 1075, 'tumorigenesis': 1275, 'metastasis': 796, 'go': 579, 'introduction': 684, 'us': 1305, 'alone': 151, 'each': 436, 'year': 1370, 'approximately': 182, '219': 40, '400': 69, 'people': 931, 'are': 185, 'diagnosed': 394, 'out': 891, 'which': 1347, 'more': 821, 'than': 1229, '145': 21, '000': 0, 'them': 1233, 'succumb': 1192, 'disease': 406, 'this': 1242, 'roughly': 1078, 'equivalent': 467, 'combined': 303, 'mortality': 823, 'rates': 1020, 'breast': 232, 'prostate': 1000, 'colon': 299, 'liver': 749, 'kidney': 707, 'melanoma': 792, 'addition': 129, 'prognosis': 989, 'usually': 1310, 'poor': 961, 'five': 520, 'survival': 1202, 'less': 733, '15': 23, 'ethnic': 475, 'differences': 398, 'outcome': 892, 'worse': 1362, 'blacks': 224, 'compared': 305, 'whites': 1349, 'gender': 564, 'striking': 1181, 'women': 1359, 'having': 602, 'significantly': 1135, 'better': 211, 'men': 794, 'can': 244, 'example': 485, 'have': 601, 'been': 207, 'identified': 637, 'many': 778, 'pathways': 914, 'especially': 469, 'rtks': 1083, 'controlled': 338, 'by': 238, 'casitas': 252, 'lineage': 744, 'lymphoma': 761, 'mammalian': 776, 'gene': 565, 'located': 750, 'on': 877, 'human': 628, 'chromosome': 279, '11q23': 15, 'involved': 689, 'signaling': 1132, 'protein': 1002, 'ubiquitination': 1290, 'proteins': 1003, 'belong': 210, 'ring': 1072, 'finger': 517, 'class': 281, 'ligases': 740, 'three': 1244, 'homologues': 620, 'genes': 572, 'ubiquitously': 1291, 'expressed': 496, 'highest': 616, 'levels': 737, 'hematopoietic': 607, 'tissues': 1251, 'consists': 325, 'four': 540, 'regions': 1035, 'encoding': 455, 'functionally': 549, 'distinct': 410, 'domains': 419, 'terminal': 1224, 'kinase': 708, 'binding': 217, 'tkb': 1253, 'domain': 418, 'linker': 747, 'region': 1034, 'catalytic': 253, 'proline': 991, 'rich': 1071, 'associated': 193, 'uba': 1287, 'overlaps': 898, 'leucine': 734, 'zipper': 1374, 'lz': 768, 'both': 230, 'ligand': 738, 'induced': 666, 'required': 1055, 'recruitment': 1031, 'e2': 434, 'conjugating': 319, 'enzymes': 465, 'includes': 652, 'helix': 606, 'bundle': 236, '4h': 76, 'calcium': 242, 'biding': 213, 'ef': 440, 'hand': 595, 'modified': 815, 'sh2': 1120, 'binds': 218, 'phosphotyrosine': 946, 'residues': 1057, '10': 6, '11': 11, '12': 16, 'associate': 192, 'sh3': 1121, 'grb2': 581, 'indirectly': 664, 'recruit': 1029, 'via': 1328, '13': 18, '14': 20, 'acts': 124, 'targets': 1219, 'degradation': 374, 'furthermore': 552, 'desensitizes': 388, 'egf': 446, 'opposes': 885, 'cellular': 262, 'proliferation': 990, 'activation': 121, 'appears': 179, 'activate': 117, 'src': 1161, 'phosphorylates': 945, 'turn': 1277, 'activates': 119, '16': 25, '17': 27, '18': 28, 'recent': 1025, 'study': 1183, 'shows': 1126, 'defective': 373, 'endocytosis': 459, 'characterized': 271, 'deletion': 379, 'mutant': 830, 'point': 957, 'l858r': 718, 'whereby': 1345, 'its': 697, 'association': 194, 'subsequent': 1187, 'impaired': 646, '19': 30, 'recently': 1026, 'first': 518, 'reported': 1051, 'acute': 125, 'myeloid': 837, 'leukemia': 735, 'aml': 159, 'patients': 916, '20': 36, 'r420q': 1013, 'inhibits': 672, 'fms': 529, 'like': 741, 'flt3': 525, 'internalization': 681, 'only': 882, 'activity': 123, 'oncogenesis': 878, 'has': 600, 'dual': 430, 'but': 237, 'separate': 1108, 'function': 547, 'signal': 1131, 'transduction': 1259, 'previously': 980, 'shown': 1125, 'crkl': 349, 'bcr': 204, 'abl': 105, 'cells': 261, 'bind': 216, 'modulate': 816, 'functions': 550, 'cytoskeleton': 363, 'talin': 1215, 'paxillin': 920, 'molecules': 818, 'then': 1234, 'given': 577, 'critical': 348, 'hypothesized': 634, 'might': 803, 'report': 1050, 'novel': 861, 'expressing': 497, 'lead': 728, 'without': 1358, 'at': 195, 'additionally': 131, 'either': 449, 'thus': 1246, 'hypothesize': 633, 'contribute': 334, 'oncogenic': 879, 'potential': 969, 'ethics': 474, 'statement': 1171, 'written': 1365, 'consent': 320, 'all': 147, 'research': 1056, 'subjects': 1186, 'institutional': 675, 'review': 1069, 'board': 228, 'university': 1297, 'chicago': 276, 'covers': 346, 'performed': 933, 'laboratory': 722, 'following': 531, 'their': 1232, 'contact': 328, 'information': 668, 'mcgiffert': 784, 'hall': 594, '5751': 80, 'woodlawn': 1360, 'ave': 197, '2nd': 52, 'floor': 522, 'il': 641, '60637': 86, 'informed': 669, 'consents': 321, 'received': 1024, 'whose': 1352, 'tissue': 1250, 'used': 1308, 'paired': 904, 'adjacent': 133, '50': 77, '29': 49, 'americans': 158, '40': 68, 'who': 1350, 'recruited': 1030, 'hospital': 623, 'usa': 1306, 'taipei': 1210, 'veterans': 1327, 'general': 570, 'taiwan': 1211, 'after': 139, 'obtaining': 872, 'appropriate': 181, 'permission': 935, '119': 12, '77': 92, '38': 62, 'unknown': 1298, 'age': 142, 'diagnosis': 395, 'ranging': 1018, '47': 71, '90': 96, 'years': 1371, 'terms': 1226, 'types': 1285, '53': 79, 'adenocarcinoma': 132, '32': 56, 'squamous': 1160, 'carcinoma': 249, '34': 58, 'large': 724, '49': 73, 'stage': 1164, 'ii': 639, 'iii': 640, 'iv': 698, 'table': 1208, 's1': 1084, 'culture': 354, 'a549': 102, 'h358': 589, 'maintained': 772, 'dmem': 412, 'rpmi': 1080, '1640': 26, 'embryonic': 453, '293t': 51, 'cultured': 355, 'media': 789, 'supplemented': 1197, 'fetal': 508, 'bovine': 231, 'serum': 1116, '100': 7, 'units': 1296, 'ml': 811, 'penicillin': 930, 'µg': 1375, 'streptomycin': 1180, 'invitrogen': 688, 'carlsbad': 250, 'ca': 240, 'humidified': 629, 'incubator': 658, 'containing': 330, 'co2': 292, 'mutational': 834, 'exons': 490, 'individually': 665, 'amplified': 162, 'polymerase': 959, 'chain': 266, 'reaction': 1022, 'pcr': 925, 'primers': 983, 'listed': 748, 's2': 1085, 'conditions': 313, 'cycle': 358, '95': 98, 'minutes': 808, '35': 59, 'cycles': 359, '94': 97, '30': 53, 'seconds': 1103, '58': 81, '72': 90, 'one': 881, 'products': 987, 'treated': 1268, 'exosap': 491, 'usb': 1307, 'corporation': 341, 'cleveland': 284, 'oh': 876, 'sequenced': 1112, 'big': 214, 'dye': 433, 'terminator': 1225, 'chemistry': 275, 'applied': 180, 'biosystems': 222, 'foster': 538, 'city': 280, 'sequencing': 1114, 'forward': 537, 'coding': 293, 'strand': 1177, 'confirmation': 315, 'reverse': 1068, 'well': 1339, 'chromatograms': 278, 'analyzed': 166, 'surveyor': 1201, 'v2': 1313, '61': 87, 'softgenetics': 1149, 'state': 1170, 'college': 298, 'pa': 901, 'plasmid': 951, 'constructs': 327, 'site': 1139, 'directed': 402, 'mutagenesis': 829, 'wild': 1354, 'type': 1284, 'cdna': 259, 'insert': 673, 'subcloned': 1184, 'into': 683, 'paltermax': 907, 'expression': 498, 'vector': 1322, 'xhoi': 1368, 'sali': 1089, 'restriction': 1063, 'enzyme': 464, 'sites': 1140, 'promega': 994, 'madison': 771, 'wi': 1353, 'parental': 910, 'double': 420, 'created': 347, 'gctggcgctaaagaataacccaccttatatcttagac': 560, 'ctaccagatacctaccagtatctccgtactatcttgtc': 352, 'ctttacccgactctttgagccctggtcctctttgc': 353, 'cagctcctcctttggctgattgtctctggatggtgatc': 241, 'along': 152, 'complementary': 308, 'quickchange': 1012, 'xl': 1369, 'kit': 710, 'stratagene': 1179, 'la': 719, 'jolla': 700, 'according': 111, 'manufacturer': 777, 'instructions': 676, 'confirmed': 316, 'standard': 1166, 'strands': 1178, 'microsatellites': 802, '11q': 14, 'within': 1357, '200': 37, 'kb': 705, 'up': 1302, 'downstream': 425, 'control': 337, 'markers': 781, '11p': 13, 'selected': 1107, 's3': 1086, 'established': 471, 'microsatellite': 801, 'respective': 1060, 'primer': 982, 'sequences': 1113, 'geneloc': 568, 'database': 367, 'http': 627, 'genecards': 567, 'weizmann': 1338, 'ac': 110, 'index': 660, 'shtml': 1128, 'institute': 674, 'science': 1096, 'rehovot': 1038, 'israel': 695, 'custom': 357, 'designed': 389, 'fluorescently': 527, 'labeled': 721, 'end': 458, 'fam': 504, 'pet': 938, 'ned': 844, 'vic': 1331, 'annealing': 170, 'temperatures': 1223, 'duplex': 432, 'scores': 1097, 'evaluated': 478, 'nist': 851, 'tools': 1255, 'yellow': 1372, 'gov': 580, '8444': 94, 'dnaanalysis': 414, 'primertoolspage': 984, 'do': 416, 'national': 841, 'standards': 1167, 'technology': 1221, 'gaithersburg': 558, 'md': 785, 'verified': 1324, 'performing': 934, 'isolated': 694, 'tk6': 1252, 'resolving': 1058, 'agarose': 141, 'gels': 563, 'bands': 200, 'visualized': 1332, 'uv': 1311, 'transilluminator': 1267, 'grouped': 584, 'multiplex': 828, 'combinations': 301, 's4': 1087, 'marker': 780, 'd11s929': 364, 'served': 1117, 'internal': 680, 'check': 272, 'consistency': 323, 'pcrs': 926, 'peaks': 929, 'capillary': 247, 'electrophoresis': 450, 'carried': 251, 'volume': 1333, 'µl': 1376, 'contained': 329, 'ng': 849, 'µm': 1377, 'total': 1256, 'pair': 903, 'dntps': 415, '1x': 35, 'buffer': 234, 'mgcl2': 798, 'taq': 1216, 'abi': 104, 'geneamp': 566, '9700': 100, 'system': 1207, 'under': 1292, 'min': 807, 'sec': 1101, '60': 85, 'separated': 1109, '3130xl': 55, 'analyzer': 167, 'peak': 928, 'scanner': 1095, 'genemapper': 569, 'software': 1150, 'allelic': 150, 'area': 186, 'produced': 986, 'quantified': 1011, 'allele': 148, 'ratio': 1021, 'areas': 187, 'calculated': 243, 'sample': 1092, 'when': 1343, 'qloh': 1010, 'divided': 411, 'least': 730, 'other': 888, 'two': 1282, 'experiments': 494, 'considered': 322, 'imbalance': 642, 'interpreted': 682, 'showing': 1124, 'prospective': 999, 'repeated': 1048, 'third': 1241, 'time': 1247, 'included': 651, 'new': 848, 'bax': 203, 'data': 366, 'verify': 1325, 'integrity': 678, 'transfection': 1263, 'line': 743, 'fugene': 546, 'hd': 604, 'roche': 1074, 'nutley': 868, 'nj': 853, 'reagent': 1023, 'eight': 448, 'no': 854, 'empty': 454, 'plate': 952, 'harvested': 599, '48': 72, 'knockdown': 711, 'lentiviral': 732, 'mission': 810, 'particles': 911, 'sigma': 1130, 'aldrich': 146, 'st': 1162, 'louis': 757, 'mo': 813, 'per': 932, 'briefly': 233, '105': 9, 'seeded': 1104, 'plates': 953, 'infected': 667, 'day': 368, 'shrna': 1127, 'generate': 571, 'stable': 1163, 'days': 369, 'puromycin': 1008, 'whole': 1351, 'lysates': 764, 'immunoblotting': 644, 'anti': 173, 'antibody': 175, 'santa': 1094, 'cruz': 351, 'biotechnologies': 223, 'assay': 190, 'described': 387, 'above': 107, 'forty': 536, 'hours': 624, 'assessed': 191, 'trypan': 1272, 'blue': 227, 'exclusion': 486, 'wound': 1364, 'healing': 605, 'until': 1300, 'confluent': 317, 'medium': 791, 'changed': 269, 'twelve': 1279, 'straight': 1176, 'scratch': 1099, 'made': 770, 'across': 114, 'layer': 725, 'pipette': 949, 'tip': 1249, 'gently': 575, 'washed': 1336, 'pbs': 921, 'remove': 1047, 'debris': 370, 'replaced': 1049, 'photographs': 947, 'taken': 1213, 'every': 481, 'western': 1341, 'blot': 226, 'collected': 297, 'twice': 1281, 'lysed': 765, 'ice': 635, 'cold': 296, 'lysis': 766, '5m': 84, 'tris': 1270, 'hcl': 603, 'ph': 939, 'nacl': 840, 'deoxycholic': 383, 'acid': 112, 'mm': 812, 'edta': 439, 'np': 863, 'dtt': 429, 'phenylmethylsulfonyl': 943, 'fluoride': 528, 'leupeptin': 736, 'aprotinin': 183, 'lysate': 763, 'centrifuged': 264, 'rpm': 1079, 'content': 331, 'supernatant': 1196, 'measured': 786, 'sds': 1100, 'page': 902, 'transferred': 1264, 'onto': 883, 'nitrocellulose': 852, 'membranes': 793, 'whatman': 1342, 'piscataway': 950, 'blocked': 225, 'fat': 506, 'dry': 428, 'milk': 805, 'phosphate': 944, 'buffered': 235, 'saline': 1090, 'tween': 1278, 'pbst': 922, 'room': 1077, 'temperature': 1222, 'incubated': 657, 'primary': 981, 'overnight': 899, 'times': 1248, 'probed': 985, 'horseradish': 622, 'peroxidase': 936, 'hrp': 626, 'conjugated': 318, 'secondary': 1102, 'again': 140, 'chemiluminescence': 274, 'biorad': 221, 'valencia': 1315, 'chemidoc': 273, 'gel': 562, 'documentation': 417, 'antibodies': 174, 'dilutions': 401, '5000': 78, '1000': 8, 'ha': 592, 'actin': 116, 'flow': 523, 'cytometry': 362, '106': 10, 'grown': 586, 'fbs': 507, 'trypsin': 1273, 'treatment': 1269, '70': 89, 'ethanol': 473, 'stained': 1165, 'solution': 1151, '25': 44, 'propidium': 997, 'iodide': 691, 'rnase': 1073, 'triton': 1271, 'dark': 365, 'guava': 588, 'pca': 923, '96': 99, 'cytometer': 361, 'technologies': 1220, 'millipore': 806, 'billerica': 215, 'ma': 769, 'pcdna3': 924, 'tagged': 1209, 'indicated': 662, 'protocol': 1005, 'profection': 988, 'twenty': 1280, 'post': 968, 'starved': 1168, 'sodium': 1148, 'orthovanadate': 887, '150': 24, 'x100': 1367, 'glycerol': 578, 'protease': 1001, 'inhibitors': 671, 'cleared': 283, 'centrifugation': 263, 'immunoprecipitations': 645, '250': 45, 'rabbit': 1015, 'plus': 956, 'sepharose': 1110, 'precipitations': 971, 'before': 208, 'boiling': 229, 'laemmli': 723, 'elutions': 451, 'immunoblotted': 643, 'micrograms': 800, 'statistical': 1173, 'between': 212, 'different': 399, 'groups': 585, 'fisher': 519, 'exact': 484, 'test': 1227, 'continuous': 333, 'variables': 1316, 'comparisons': 306, 'variance': 1317, 'anova': 172, 'followed': 530, 'sidak': 1129, 'adjustment': 134, 'multiple': 827, 'involving': 690, 'measurements': 787, 'over': 894, 'measures': 788, 'greenhouse': 582, 'geisser': 561, 'degrees': 376, 'freedom': 541, 'analyses': 164, 'conducted': 314, 'stata': 1169, 'v10': 1312, 'station': 1172, 'tx': 1283, 'results': 1066, 'investigate': 685, 'drawn': 426, 'ethnicities': 476, 'represented': 1053, 'caucasians': 255, 'pairs': 905, 'sequence': 1111, 'spans': 1156, 'unique': 1295, 'among': 160, 'variation': 1318, 'l620f': 717, 'known': 713, 'snp': 1145, 'rs2227988': 1081, 'exon': 489, 'detected': 391, 'importantly': 649, 'synonymous': 1206, 'moreover': 822, 'corresponding': 343, 'indicating': 663, 'single': 1138, 'nucleotide': 865, 'snvs': 1146, 'further': 551, 'patient': 915, 'v391i': 1314, '72515_72517': 91, 'del': 377, 'atg': 196, 'r830k': 1014, 'a848t': 103, 'figure': 513, '1a': 32, '1b': 33, 'model': 814, 'representative': 1052, 'investigated': 686, '21': 39, 'showed': 1123, 'while': 1348, '78': 93, 'contribution': 336, 'figures': 514, '1c': 34, 'found': 539, 'tumors': 1276, 'frequency': 543, 'ad': 126, 'although': 156, 'statistically': 1174, '292': 50, 'sq': 1159, 'lc': 726, '23': 42, 'population': 963, 'had': 593, 'power': 970, 'detect': 390, 'low': 758, 'co': 291, 'since': 1137, 'east': 438, 'asians': 189, 'higher': 615, 'cohort': 294, 'tested': 1228, 'did': 396, 'find': 515, 'overlap': 896, 'mutants': 831, 'including': 653, 'n375s': 839, 'additional': 130, 'six': 1142, 'neither': 847, 'nor': 857, '26': 46, 'l211w': 715, 'similar': 1136, 'seen': 1105, '99': 101, 'identifiable': 636, 'conversely': 339, '89': 95, 'cohorts': 295, 'overlapped': 897, 'concurrent': 312, 'context': 332, 'intact': 677, 'whether': 1346, 'affect': 135, 'chosen': 277, 'substrate': 1189, 'enhanced': 461, 'activated': 118, 'result': 1064, 'demonstrates': 382, '3a': 64, 'various': 1320, 'effect': 441, 'backgrounds': 199, 'wt': 1366, 'cloning': 287, 'express': 495, 'relatively': 1042, 'basal': 201, 'endogenous': 460, 'efficiency': 444, 'comparable': 304, 'construct': 326, 'about': 106, 'resulted': 1065, 'viable': 1330, '132': 19, '120': 17, '147': 22, 'relative': 1041, '022': 4, '049': 5, '008': 3, '3b': 65, 'prepared': 975, 'parallel': 909, 'experiment': 493, 'representing': 1054, 'untransfected': 1301, 'those': 1243, '3c': 66, 'if': 638, 'increases': 656, 'due': 431, 'transfectant': 1260, 'materials': 782, 'change': 268, 'subg1': 1185, 'g1': 555, 'phase': 940, '64': 88, '28': 48, 'g2': 556, 'increase': 654, 'numbers': 867, 'difference': 397, '3d': 67, 'migration': 804, 'closing': 288, 'monitored': 819, '24': 43, '36': 60, '4a': 74, 'gap': 559, 'much': 826, 'smaller': 1144, '001': 2, 'closure': 289, 'transfectants': 1261, 'open': 884, '4b': 75, 'our': 890, 'could': 344, 'decreased': 371, 'high': 614, 'knocked': 712, 'down': 421, 'specific': 1157, 'transduced': 1258, 'scrambled': 1098, 'several': 1119, 'clones': 286, 'varying': 1321, 'sets': 1118, '5a': 82, 'clone': 285, '27': 47, 'equal': 466, 'amount': 161, 'depicted': 386, '5b': 83, 'expected': 492, 'dependent': 384, '190': 31, 'span': 1155, '0002': 1, 'phases': 941, 'looked': 754, 'discernable': 403, 'discussion': 405, 'demonstrate': 380, 'somatically': 1153, 'prevalence': 978, 'respect': 1059, 'harbored': 598, 'present': 976, 'demonstrated': 381, 'occurrence': 874, 'ancestral': 168, 'juvenile': 702, 'myelomonocytic': 838, 'malignancies': 775, 'junction': 701, 'inhibited': 670, 'contributing': 335, 'gain': 557, 'rtk': 1082, 'h398y': 590, 'c384r': 239, 'l380p': 716, 'mapped': 779, 'homozygous': 621, 'acquired': 113, 'uniparental': 1294, 'disomy': 407, 'upd': 1303, 'note': 860, 'indicate': 661, 'heterozygous': 613, 'led': 731, 'abrogation': 108, 'leading': 729, 'prolonged': 993, 'surrounding': 1200, 'exhibited': 488, 'akt': 144, 'response': 1062, 'cytokine': 360, 'stimulation': 1175, 'nh3t3': 850, 'causes': 257, 'transformation': 1265, 'certain': 265, 'perturbs': 937, 'others': 889, 'recycling': 1032, 'prolong': 992, 'here': 609, 'studies': 1182, 'polymorphism': 960, 'races': 1016, 'interestingly': 679, 'disparity': 409, 'populations': 964, '31': 54, 'fewer': 509, 'ethnicity': 477, 'would': 1363, 'now': 862, 'behoove': 209, 'determine': 392, 'targeted': 1218, 'therapeutics': 1235, 'provide': 1006, 'evidence': 482, 'importance': 647, 'prediction': 973, 'based': 202, 'will': 1355, 'partners': 913, 'growth': 587, 'factor': 501, 'receptors': 1028, 'cross': 350, 'future': 553, 'look': 753, 'fluorescence': 526, 'situ': 1141, 'hybridization': 630, 'changes': 270, 'plays': 955, 'regulating': 1036, 'mediated': 790, 'through': 1245, 'k63': 704, 'poly': 958, 'downregulation': 424, 'lysosomal': 767, 'degredation': 375, 'mono': 820, 'ubiquitinated': 1289, 'linked': 746, 'chains': 267, 'substrates': 1190, 'enhancement': 462, 'biological': 220, 'biochemical': 219, 'reviewed': 1070, 'hermann': 610, 'et': 472, 'al': 145, '2007': 38, 'fact': 500, 'remain': 1044, 'acted': 115, 'upon': 1304, 'erbs': 468, 'pdgfr': 927, 'vegfr': 1323, 'flt': 524, 'ron': 1076, 'fgfr': 511, 'ir': 692, 'syk': 1203, 'fyn': 554, 'lck': 727, 'fgr': 512, 'lyn': 762, 'relevant': 1043, 'yet': 1373, 'observation': 869, 'agreement': 143, 'physiological': 948, 'regulation': 1037, 'apoptosis': 177, 'differentiation': 400, 'drosophila': 427, 'very': 1326, '33': 57, 'activating': 120, 'downregulates': 423, 'decreases': 372, 'negative': 846, 'substantiated': 1188, 'thereby': 1237, 'suggesting': 1195, 'natural': 842, 'suppressor': 1199, 'promoting': 995, 'activities': 122, 'depending': 385, 'alleles': 149, 'appear': 178, 'properties': 996, 'outside': 893, 'effects': 442, 'so': 1147, 'cause': 256, 'affected': 136, 'raises': 1017, 'possibility': 966, 'some': 1154, 'currently': 356, 'investigating': 687, 'nature': 843, 'addiction': 128, 'signals': 1133, 'clustering': 290, 'possible': 967, 'transforming': 1266, 'most': 824, 'likely': 742, 'combinatorial': 302, 'harbor': 597, 'related': 1039, 'makes': 774, 'enough': 463, 'event': 480, 'another': 171, 'discussed': 404, 'carcinogenesis': 248, 'predict': 972, 'haploinsufficiency': 596, 'downplays': 422, 'hyperactivity': 631, 'sufficient': 1194, 'remains': 1046, 'consistent': 324, 'hypothesis': 632, 'mice': 799, 'lymphocytes': 760, 'formation': 535, 'compensate': 307, 'alternately': 155, 'form': 533, 'synergy': 1205, 'working': 1361, 'reduced': 1033, 'exacerbate': 483, 'phenotype': 942, 'previous': 979, 'lab': 720, 'frequencies': 542, 'japanese': 699, 'splice': 1158, 'deletes': 378, 'juxtamembrane': 703, 'her2': 608, 'failed': 503, 'whereas': 1344, 'earlier': 437, 'key': 706, 'affecting': 137, 'comprehensive': 309, '188': 29, '39': 63, 'encompasses': 457, 'histologies': 618, 'published': 1007, 'series': 1115, 'unlike': 1299, 'encompassed': 456, 'subtypes': 1191, 'majority': 773, 'germline': 576, 'efforts': 445, 'understand': 1293, 'oncogenome': 880, 'pax': 917, 'transcription': 1257, 'factors': 502, 'pax5': 918, 'pax8': 919, 'preferential': 974, 'particularly': 912, 'therefore': 1238, 'propose': 998, 'efficacious': 443, 'target': 1217, 'needs': 845, 'because': 206, 'poorer': 962, 'counterparts': 345, '41': 70, 'conclusion': 310, 'presented': 977, 'frequently': 544, 'even': 479, 'lost': 756, 'support': 1198, 'synergistic': 1204}\n"
          ],
          "name": "stdout"
        }
      ]
    },
    {
      "cell_type": "code",
      "metadata": {
        "id": "onEfvvyyPpkr",
        "colab_type": "code",
        "colab": {}
      },
      "source": [
        "result = pd.merge(data, data_text, on ='ID', how = 'left')"
      ],
      "execution_count": null,
      "outputs": []
    },
    {
      "cell_type": "code",
      "metadata": {
        "id": "vU7PqEqcFKXz",
        "colab_type": "code",
        "colab": {
          "base_uri": "https://localhost:8080/",
          "height": 34
        },
        "outputId": "d9b166df-717c-4d86-f768-43142802048b"
      },
      "source": [
        "lst = []\n",
        "for k in lop.keys():  \n",
        "  if(k==\"cbl\" or k==\"w802*\" or k==\"q249e\" or k==\"n454d\"):\n",
        "       lst.append(k)\n",
        "print(lst)"
      ],
      "execution_count": null,
      "outputs": [
        {
          "output_type": "stream",
          "text": [
            "['cbl', 'q249e']\n"
          ],
          "name": "stdout"
        }
      ]
    },
    {
      "cell_type": "markdown",
      "metadata": {
        "id": "rhk07SLYXfVR",
        "colab_type": "text"
      },
      "source": [
        "# Pre-processing text\n",
        "\n"
      ]
    },
    {
      "cell_type": "code",
      "metadata": {
        "id": "sXN9qeXnCFlP",
        "colab_type": "code",
        "colab": {}
      },
      "source": [
        "import string\n",
        "regex1 = re.compile('[%s]' % re.escape(string.digits))\n",
        "regex2 = re.compile('[%s]' % re.escape(string.punctuation))\n",
        "def remove(sentence):\n",
        "  reg = regex1.sub('',sentence)\n",
        "  reg = regex2.sub('',reg)\n",
        "  return reg"
      ],
      "execution_count": null,
      "outputs": []
    },
    {
      "cell_type": "code",
      "metadata": {
        "id": "0JooKX47D3Ak",
        "colab_type": "code",
        "colab": {}
      },
      "source": [
        "data_text['TEXT'] = data_text['TEXT'].apply(lambda x: remove(str(x)))"
      ],
      "execution_count": null,
      "outputs": []
    },
    {
      "cell_type": "code",
      "metadata": {
        "id": "jxSPA3Yv10XO",
        "colab_type": "code",
        "colab": {}
      },
      "source": [
        "#replacing every null value  with gene value and variations.\n",
        "result.loc[result['TEXT'].isnull(),'TEXT'] = result['Gene'] +' '+result['Variation'] "
      ],
      "execution_count": null,
      "outputs": []
    },
    {
      "cell_type": "code",
      "metadata": {
        "id": "-oXpWLdb2Pnt",
        "colab_type": "code",
        "colab": {}
      },
      "source": [
        "y_true = result['Class'].values \n",
        "X_train, X_test, Y_train, Y_test = train_test_split(result, \n",
        "                                                    y_true, \n",
        "                                                    stratify = y_true, \n",
        "                                                    test_size = 0.2)\n",
        "X_train_cv, X_test_cv, Y_train_cv, Y_test_cv = train_test_split(X_train, Y_train, \n",
        "                       stratify = Y_train, test_size = 0.2)\n",
        "\n"
      ],
      "execution_count": null,
      "outputs": []
    },
    {
      "cell_type": "markdown",
      "metadata": {
        "id": "Uj8zz6dHlthL",
        "colab_type": "text"
      },
      "source": [
        "#Plotting confusion matrix."
      ]
    },
    {
      "cell_type": "code",
      "metadata": {
        "id": "ocu31-WkVZ-S",
        "colab_type": "code",
        "colab": {}
      },
      "source": [
        "def plot_confusion_matrix(test_y, predict_y):\n",
        "    C = confusion_matrix(test_y, predict_y)\n",
        "    \n",
        "    labels = [1,2,3,4,5,6,7,8,9]\n",
        "    # representing A in heatmap format\n",
        "    print(\"-\"*20, \"Confusion matrix\", \"-\"*20)\n",
        "    plt.figure(figsize = (20,7))\n",
        "    sns.heatmap(C, annot = True, cmap = \"YlGnBu\", fmt = \".3f\", \n",
        "                xticklabels = labels, yticklabels = labels)\n",
        "    plt.xlabel('Predicted Class')\n",
        "    plt.ylabel('Original Class')\n",
        "    plt.show()"
      ],
      "execution_count": null,
      "outputs": []
    },
    {
      "cell_type": "markdown",
      "metadata": {
        "id": "n23KZmWoea0C",
        "colab_type": "text"
      },
      "source": [
        "# Creating random model for benchmarking"
      ]
    },
    {
      "cell_type": "code",
      "metadata": {
        "id": "kYEct5_VPXSC",
        "colab_type": "code",
        "colab": {
          "base_uri": "https://localhost:8080/",
          "height": 34
        },
        "outputId": "37a4b771-77f9-47b9-b15b-857dd92f7484"
      },
      "source": [
        "# Test dataset\n",
        "test_data_len = X_test.shape[0]\n",
        "# Number of rows equals number of test datapoints\n",
        "test_predicted_y = np.zeros((test_data_len,9))\n",
        "for i in range(test_data_len):\n",
        "    # generate 9 random  numbers for our random classes.\n",
        "    rand_probs = np.random.rand(1,9)\n",
        "    # divide each with the sum of all\n",
        "    test_predicted_y[i] = ((rand_probs/sum(sum(rand_probs)))[0])\n",
        "print(\"Log loss on Test Data using Random Model\",\n",
        "      log_loss(Y_test, test_predicted_y, eps=1e-15))"
      ],
      "execution_count": null,
      "outputs": [
        {
          "output_type": "stream",
          "text": [
            "Log loss on Test Data using Random Model 2.5496030675752293\n"
          ],
          "name": "stdout"
        }
      ]
    },
    {
      "cell_type": "code",
      "metadata": {
        "id": "Atn7KCNqQwWs",
        "colab_type": "code",
        "colab": {
          "base_uri": "https://localhost:8080/",
          "height": 459
        },
        "outputId": "c93f8e8b-d139-430b-9ea4-da1648dbb5e3"
      },
      "source": [
        "# get the max probability\n",
        "predicted_y = np.argmax(test_predicted_y, axis = 1) \n",
        "plot_confusion_matrix(Y_test, predicted_y+1) "
      ],
      "execution_count": null,
      "outputs": [
        {
          "output_type": "stream",
          "text": [
            "-------------------- Confusion matrix --------------------\n"
          ],
          "name": "stdout"
        },
        {
          "output_type": "display_data",
          "data": {
            "image/png": "[encoded data removed]",
            "text/plain": [
              "<Figure size 1440x504 with 2 Axes>"
            ]
          },
          "metadata": {
            "tags": [],
            "needs_background": "light"
          }
        }
      ]
    },
    {
      "cell_type": "code",
      "metadata": {
        "id": "8GixkEBk7PhO",
        "colab_type": "code",
        "colab": {
          "base_uri": "https://localhost:8080/",
          "height": 34
        },
        "outputId": "3a969b26-3fb4-4180-b5f3-e20ea6030f1a"
      },
      "source": [
        "cv_data_len = X_test_cv.shape[0]\n",
        "\n",
        "# Cross validation dataset\n",
        "cv_predicted_y = np.zeros((cv_data_len,9)) \n",
        "for i in range(cv_data_len):\n",
        "    rand_probs = np.random.rand(1,9) \n",
        "    cv_predicted_y[i] = ((rand_probs/sum(sum(rand_probs)))[0]) \n",
        "\n",
        "print(\"Log loss on Cross Validation Data using Random Model\",\n",
        "      log_loss(Y_test_cv, cv_predicted_y, eps = 1e-15))"
      ],
      "execution_count": null,
      "outputs": [
        {
          "output_type": "stream",
          "text": [
            "Log loss on Cross Validation Data using Random Model 2.501899686140036\n"
          ],
          "name": "stdout"
        }
      ]
    },
    {
      "cell_type": "code",
      "metadata": {
        "id": "Avmbd365DVRH",
        "colab_type": "code",
        "colab": {}
      },
      "source": [
        "# one-hot encoding of gene feature.\n",
        "gene_vectorizer = CountVectorizer()\n",
        "train_gene_feature_onehotCoding = gene_vectorizer.fit_transform(X_train['Gene'])\n",
        "test_gene_feature_onehotCoding = gene_vectorizer.transform(X_test['Gene'])\n",
        "cv_gene_feature_onehotCoding = gene_vectorizer.transform(X_train_cv['Gene'])\n",
        "\n",
        "# one-hot encoding of variation feature.\n",
        "variation_vectorizer = CountVectorizer()\n",
        "train_variation_feature_onehotCoding = variation_vectorizer.fit_transform(X_train['Variation'])\n",
        "test_variation_feature_onehotCoding = variation_vectorizer.transform(X_test['Variation'])\n",
        "cv_variation_feature_onehotCoding = variation_vectorizer.transform(X_train_cv['Variation'])\n",
        "\n",
        "# one-hot encoding of text feature.\n",
        "# Minimum frequency for words = 3 and remove all stop words\n",
        "text_vectorizer = CountVectorizer(min_df = 3, stop_words = 'english')\n",
        "train_text_feature_onehotCoding = text_vectorizer.fit_transform(X_train['TEXT'])\n",
        "train_text_feature_onehotCoding = normalize(train_text_feature_onehotCoding, axis = 0)\n",
        "test_text_feature_onehotCoding = text_vectorizer.transform(X_test['TEXT'])\n",
        "test_text_feature_onehotCoding = normalize(test_text_feature_onehotCoding, axis = 0)\n",
        "cv_text_feature_onehotCoding = text_vectorizer.transform(X_train_cv['TEXT'])\n",
        "cv_text_feature_onehotCoding = normalize(cv_text_feature_onehotCoding, axis = 0)"
      ],
      "execution_count": null,
      "outputs": []
    },
    {
      "cell_type": "code",
      "metadata": {
        "id": "buo-oRhdBoC8",
        "colab_type": "code",
        "colab": {}
      },
      "source": [
        "# merging gene, variation and text features\n",
        "train_gene_var_onehotCoding = hstack((train_gene_feature_onehotCoding,\n",
        "                                      train_variation_feature_onehotCoding))\n",
        "test_gene_var_onehotCoding = hstack((test_gene_feature_onehotCoding,\n",
        "                                     test_variation_feature_onehotCoding))\n",
        "cv_gene_var_onehotCoding = hstack((cv_gene_feature_onehotCoding,\n",
        "                                   cv_variation_feature_onehotCoding))\n",
        "\n",
        "train_x_onehotCoding = hstack((train_gene_var_onehotCoding, \n",
        "                               train_text_feature_onehotCoding)).tocsr()\n",
        "train_y = np.array(list(X_train['Class']))\n",
        "\n",
        "test_x_onehotCoding = hstack((test_gene_var_onehotCoding, \n",
        "                              test_text_feature_onehotCoding)).tocsr()\n",
        "test_y = np.array(list(X_test['Class']))\n",
        "\n",
        "cv_x_onehotCoding = hstack((cv_gene_var_onehotCoding, \n",
        "                            cv_text_feature_onehotCoding)).tocsr()\n",
        "cv_y = np.array(list(X_train_cv['Class']))"
      ],
      "execution_count": null,
      "outputs": []
    },
    {
      "cell_type": "markdown",
      "metadata": {
        "id": "_TH-PISONRUE",
        "colab_type": "text"
      },
      "source": [
        "# Logistic Regression with class balancing."
      ]
    },
    {
      "cell_type": "markdown",
      "metadata": {
        "id": "j9sIOnuVBdRf",
        "colab_type": "text"
      },
      "source": [
        "### Selecting best alpha value"
      ]
    },
    {
      "cell_type": "code",
      "metadata": {
        "id": "2B-ngGzXs9oH",
        "colab_type": "code",
        "colab": {
          "base_uri": "https://localhost:8080/",
          "height": 323
        },
        "outputId": "62647879-626c-4e8b-ee99-bc34421c8e79"
      },
      "source": [
        "alpha = [10 ** x for x in range(-6, 3)]\n",
        "cv_log_error_array = []\n",
        "for i in alpha:\n",
        "    print(\"for alpha =\", i)\n",
        "    clf = SGDClassifier(class_weight='balanced', \n",
        "                        alpha = i, penalty = 'l2', \n",
        "                        loss = 'log', random_state = 42)\n",
        "    clf.fit(train_x_onehotCoding, train_y)\n",
        "    sig_clf = CalibratedClassifierCV(clf, method = \"sigmoid\")\n",
        "    sig_clf.fit(train_x_onehotCoding, train_y)\n",
        "    sig_clf_probs = sig_clf.predict_proba(cv_x_onehotCoding)\n",
        "    cv_log_error_array.append(log_loss(cv_y, sig_clf_probs, \n",
        "                                       labels = clf.classes_, eps = 1e-15))\n",
        "    print(\"Log Loss :\",log_loss(cv_y, sig_clf_probs)) "
      ],
      "execution_count": null,
      "outputs": [
        {
          "output_type": "stream",
          "text": [
            "for alpha = 1e-06\n",
            "Log Loss : 0.817652656156739\n",
            "for alpha = 1e-05\n",
            "Log Loss : 0.7239067948570755\n",
            "for alpha = 0.0001\n",
            "Log Loss : 0.43229795092997625\n",
            "for alpha = 0.001\n",
            "Log Loss : 0.48921806403913265\n",
            "for alpha = 0.01\n",
            "Log Loss : 0.7149303850764087\n",
            "for alpha = 0.1\n",
            "Log Loss : 1.3211992535744743\n",
            "for alpha = 1\n",
            "Log Loss : 1.5850326732031788\n",
            "for alpha = 10\n",
            "Log Loss : 1.6174113158356398\n",
            "for alpha = 100\n",
            "Log Loss : 1.6208749923611223\n"
          ],
          "name": "stdout"
        }
      ]
    },
    {
      "cell_type": "markdown",
      "metadata": {
        "id": "TuO4R7KnBlqs",
        "colab_type": "text"
      },
      "source": [
        "### Train with the best alpha"
      ]
    },
    {
      "cell_type": "code",
      "metadata": {
        "id": "i8gZNQlQAwCs",
        "colab_type": "code",
        "colab": {
          "base_uri": "https://localhost:8080/",
          "height": 306
        },
        "outputId": "2a3c5fd5-2325-43f8-9881-8dbc1bc757d5"
      },
      "source": [
        "best_alpha = np.argmin(cv_log_error_array)\n",
        "clf = SGDClassifier(class_weight = 'balanced', \n",
        "                    alpha = alpha[best_alpha], penalty = 'l2', \n",
        "                    loss='log', random_state = 42)\n",
        "clf.fit(train_x_onehotCoding, train_y)\n",
        "sig_clf = CalibratedClassifierCV(clf, method = \"sigmoid\")\n",
        "sig_clf.fit(train_x_onehotCoding, train_y)"
      ],
      "execution_count": null,
      "outputs": [
        {
          "output_type": "execute_result",
          "data": {
            "text/plain": [
              "CalibratedClassifierCV(base_estimator=SGDClassifier(alpha=0.0001, average=False,\n",
              "                                                    class_weight='balanced',\n",
              "                                                    early_stopping=False,\n",
              "                                                    epsilon=0.1, eta0=0.0,\n",
              "                                                    fit_intercept=True,\n",
              "                                                    l1_ratio=0.15,\n",
              "                                                    learning_rate='optimal',\n",
              "                                                    loss='log', max_iter=1000,\n",
              "                                                    n_iter_no_change=5,\n",
              "                                                    n_jobs=None, penalty='l2',\n",
              "                                                    power_t=0.5,\n",
              "                                                    random_state=42,\n",
              "                                                    shuffle=True, tol=0.001,\n",
              "                                                    validation_fraction=0.1,\n",
              "                                                    verbose=0,\n",
              "                                                    warm_start=False),\n",
              "                       cv=None, method='sigmoid')"
            ]
          },
          "metadata": {
            "tags": []
          },
          "execution_count": 33
        }
      ]
    },
    {
      "cell_type": "code",
      "metadata": {
        "id": "q5YEfn3sK8ja",
        "colab_type": "code",
        "colab": {
          "base_uri": "https://localhost:8080/",
          "height": 68
        },
        "outputId": "6b321114-518f-4885-f65e-e7224482ac89"
      },
      "source": [
        "predict_y = sig_clf.predict_proba(train_x_onehotCoding)\n",
        "print(\"The train log loss is:\",\n",
        "      log_loss(Y_train, predict_y, labels = clf.classes_, eps = 1e-15))\n",
        "predict_y = sig_clf.predict_proba(cv_x_onehotCoding)\n",
        "print(\"The cross validation log loss is:\",\n",
        "      log_loss(Y_train_cv, predict_y, labels = clf.classes_, eps = 1e-15))\n",
        "predict_y = sig_clf.predict_proba(test_x_onehotCoding)\n",
        "print(\"The test log loss is:\",\n",
        "      log_loss(Y_test, predict_y, labels = clf.classes_, eps = 1e-15))"
      ],
      "execution_count": null,
      "outputs": [
        {
          "output_type": "stream",
          "text": [
            "The train log loss is: 0.4577097974816002\n",
            "The cross validation log loss is: 0.43229795092997625\n",
            "The test log loss is: 1.100231148477779\n"
          ],
          "name": "stdout"
        }
      ]
    },
    {
      "cell_type": "markdown",
      "metadata": {
        "id": "SgXbXLM3O0Rn",
        "colab_type": "text"
      },
      "source": [
        "# Model evaluation"
      ]
    },
    {
      "cell_type": "code",
      "metadata": {
        "id": "fcJqPcupP8N0",
        "colab_type": "code",
        "colab": {}
      },
      "source": [
        "def predict_and_plot_confusion_matrix(train_x, train_y,\n",
        "                                      test_x, test_y, clf):\n",
        "    clf.fit(train_x, train_y)\n",
        "    sig_clf = CalibratedClassifierCV(clf, method = \"sigmoid\")\n",
        "    sig_clf.fit(train_x, train_y)\n",
        "    pred_y = sig_clf.predict(test_x)\n",
        "\n",
        "    # Display number of data points that are misclassified\n",
        "    print(\"Number of mis-classified points :\", \n",
        "          np.count_nonzero((pred_y- test_y))/test_y.shape[0])\n",
        "    plot_confusion_matrix(test_y, pred_y)"
      ],
      "execution_count": null,
      "outputs": []
    },
    {
      "cell_type": "code",
      "metadata": {
        "id": "rIWEjb90OFMf",
        "colab_type": "code",
        "colab": {
          "base_uri": "https://localhost:8080/",
          "height": 477
        },
        "outputId": "115e5ee7-58c7-4da2-f2d2-df17f44477f9"
      },
      "source": [
        "clf = SGDClassifier(class_weight = 'balanced', \n",
        "                    alpha = alpha[best_alpha], penalty = 'l2', \n",
        "                    loss = 'log', random_state = 42)\n",
        "predict_and_plot_confusion_matrix(train_x_onehotCoding, \n",
        "                                  train_y, cv_x_onehotCoding, \n",
        "                                  cv_y, clf)"
      ],
      "execution_count": null,
      "outputs": [
        {
          "output_type": "stream",
          "text": [
            "Number of mis-classified points : 0.04331450094161959\n",
            "-------------------- Confusion matrix --------------------\n"
          ],
          "name": "stdout"
        },
        {
          "output_type": "display_data",
          "data": {
            "image/png": "[encoded data removed]",
            "text/plain": [
              "<Figure size 1440x504 with 2 Axes>"
            ]
          },
          "metadata": {
            "tags": [],
            "needs_background": "light"
          }
        }
      ]
    },
    {
      "cell_type": "markdown",
      "metadata": {
        "id": "E4MQ8KR1RNI8",
        "colab_type": "text"
      },
      "source": [
        "# Real Use by Doctors.\n"
      ]
    },
    {
      "cell_type": "code",
      "metadata": {
        "id": "upU_rdmbTIED",
        "colab_type": "code",
        "colab": {}
      },
      "source": [
        " def getImportantFeatures(indices, gene, variation, text, noOfFeatures):\n",
        " \n",
        "    gene_features = gene_vectorizer.get_feature_names()\n",
        "    variation_features = variation_vectorizer.get_feature_names()\n",
        "    text_features = text_vectorizer.get_feature_names()\n",
        "    \n",
        "    gene_feat_len = len(gene_features)\n",
        "    var_feat_len = len(variation_features)\n",
        "    text_features_len =len(text_features)\n",
        "    \n",
        "    word_present = 0\n",
        "    for i, v in enumerate(indices):\n",
        "        if v < gene_feat_len:\n",
        "            word = gene_features[v]\n",
        "            if word == gene:\n",
        "                word_present += 1\n",
        "                print(\"{}st Gene feature [{}] is present in query point [{}]\".format(i+1, word,bool_var))\n",
        "                    \n",
        "        elif (v < gene_feat_len + var_feat_len):\n",
        "            word = variation_features[v - gene_feat_len]           \n",
        "            if word == variation:\n",
        "                word_present += 1\n",
        "                print(\"{}th Variation feature [{}] is present in query point\".format(i+1, word))\n",
        "        else:\n",
        "            word = text_features[v - (gene_feat_len + var_feat_len)]\n",
        "\n",
        "            if word in text.split():              \n",
        "                word_present += 1\n",
        "                print(\"{}th Text feature [{}] is present in query point\".format(i+1, word))\n",
        "                    \n",
        "    print(\"-\"*63)                \n",
        "    print(\"Out of the top \"+str(noOfFeatures)+\" features \"+\n",
        "          str(word_present)+\" are present in query point\")\n",
        "    print(\"-\"*63)   "
      ],
      "execution_count": null,
      "outputs": []
    },
    {
      "cell_type": "code",
      "metadata": {
        "id": "wvDJDQxSRaU4",
        "colab_type": "code",
        "colab": {
          "base_uri": "https://localhost:8080/",
          "height": 578
        },
        "outputId": "5d1ec541-9305-44c9-f67f-36e4c4a310e7"
      },
      "source": [
        "testDataPoint = 50\n",
        "top_features = 1000\n",
        "predicted_cls = sig_clf.predict(test_x_onehotCoding[testDataPoint])\n",
        "print(\"Predicted Class :\", predicted_cls[0])\n",
        "print(\"Predicted Class Probabilities:\", np.round(sig_clf.predict_proba(test_x_onehotCoding[testDataPoint]),4))\n",
        "print(\"Actual Class :\", test_y[testDataPoint])\n",
        "indices = np.argsort(-1*abs(clf.coef_))[predicted_cls-1][:,:top_features]\n",
        "getImportantFeatures(indices[0], X_test.iloc[testDataPoint][\"Gene\"], \n",
        "                     X_test.iloc[testDataPoint][\"Variation\"], \n",
        "                     X_test.iloc[testDataPoint][\"TEXT\"], top_features)"
      ],
      "execution_count": null,
      "outputs": [
        {
          "output_type": "stream",
          "text": [
            "Predicted Class : 6\n",
            "Predicted Class Probabilities: [[1.674e-01 2.000e-03 1.200e-03 1.888e-01 1.020e-02 6.204e-01 6.000e-04\n",
            "  5.000e-03 4.500e-03]]\n",
            "Actual Class : 6\n",
            "404th Text feature [posterior] is present in query point\n",
            "585th Text feature [encoding] is present in query point\n",
            "587th Text feature [displayed] is present in query point\n",
            "602th Text feature [constructs] is present in query point\n",
            "606th Text feature [3b] is present in query point\n",
            "635th Text feature [mutants] is present in query point\n",
            "660th Text feature [carrying] is present in query point\n",
            "702th Text feature [assay] is present in query point\n",
            "706th Text feature [2d] is present in query point\n",
            "776th Text feature [difficult] is present in query point\n",
            "807th Text feature [assays] is present in query point\n",
            "819th Text feature [results] is present in query point\n",
            "823th Text feature [previously] is present in query point\n",
            "825th Text feature [domain] is present in query point\n",
            "836th Text feature [probability] is present in query point\n",
            "848th Text feature [located] is present in query point\n",
            "857th Text feature [did] is present in query point\n",
            "871th Text feature [available] is present in query point\n",
            "872th Text feature [consistent] is present in query point\n",
            "877th Text feature [pathogenicity] is present in query point\n",
            "882th Text feature [duplex] is present in query point\n",
            "888th Text feature [mutations] is present in query point\n",
            "967th Text feature [adapted] is present in query point\n",
            "977th Text feature [possibility] is present in query point\n",
            "979th Text feature [biological] is present in query point\n",
            "992th Text feature [mutation] is present in query point\n",
            "---------------------------------------------------------------\n",
            "Out of the top 1000 features 26 are present in query point\n",
            "---------------------------------------------------------------\n"
          ],
          "name": "stdout"
        }
      ]
    }
  ]
}